{
  "nbformat": 4,
  "nbformat_minor": 0,
  "metadata": {
    "colab": {
      "name": "UrbanHeatIsland.ipynb",
      "provenance": [],
      "collapsed_sections": []
    },
    "kernelspec": {
      "name": "python3",
      "display_name": "Python 3"
    }
  },
  "cells": [
    {
      "cell_type": "code",
      "metadata": {
        "id": "xD7mdRHnLjJ2",
        "colab_type": "code",
        "outputId": "951ea9a5-7fc0-4a62-8538-f9c3fc229609",
        "colab": {
          "resources": {
            "http://localhost:8080/nbextensions/google.colab/files.js": {
              "data": "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",
              "ok": true,
              "headers": [
                [
                  "content-type",
                  "application/javascript"
                ]
              ],
              "status": 200,
              "status_text": ""
            }
          },
          "base_uri": "https://localhost:8080/",
          "height": 75
        }
      },
      "source": [
        "from google.colab import files\n",
        "uploaded = files.upload()"
      ],
      "execution_count": 0,
      "outputs": [
        {
          "output_type": "display_data",
          "data": {
            "text/html": [
              "\n",
              "     <input type=\"file\" id=\"files-ebdd4db6-d54e-4884-8f9d-d5138a8540c1\" name=\"files[]\" multiple disabled />\n",
              "     <output id=\"result-ebdd4db6-d54e-4884-8f9d-d5138a8540c1\">\n",
              "      Upload widget is only available when the cell has been executed in the\n",
              "      current browser session. Please rerun this cell to enable.\n",
              "      </output>\n",
              "      <script src=\"/nbextensions/google.colab/files.js\"></script> "
            ],
            "text/plain": [
              "<IPython.core.display.HTML object>"
            ]
          },
          "metadata": {
            "tags": []
          }
        },
        {
          "output_type": "stream",
          "text": [
            "Saving heat_island.csv to heat_island.csv\n"
          ],
          "name": "stdout"
        }
      ]
    },
    {
      "cell_type": "code",
      "metadata": {
        "id": "FXqGeXrRLoX2",
        "colab_type": "code",
        "colab": {}
      },
      "source": [
        "import pandas as pd\n",
        "import matplotlib.pyplot as plt"
      ],
      "execution_count": 0,
      "outputs": []
    },
    {
      "cell_type": "markdown",
      "metadata": {
        "id": "o82SXDxkTs_l",
        "colab_type": "text"
      },
      "source": [
        "# Data Cleaning"
      ]
    },
    {
      "cell_type": "code",
      "metadata": {
        "id": "mTffBegaLqZD",
        "colab_type": "code",
        "outputId": "fa944afe-9a08-429f-8600-1d7e2313de4e",
        "colab": {
          "base_uri": "https://localhost:8080/",
          "height": 364
        }
      },
      "source": [
        "df = pd.read_csv('heat_island.csv', encoding = \"ISO-8859-1\")\n",
        "df = df.drop('NewCityID', axis=1)\n",
        "df = df.drop('UrbanID', axis=1)\n",
        "original_df = df;\n",
        "df.info()"
      ],
      "execution_count": 0,
      "outputs": [
        {
          "output_type": "stream",
          "text": [
            "<class 'pandas.core.frame.DataFrame'>\n",
            "RangeIndex: 31500 entries, 0 to 31499\n",
            "Data columns (total 15 columns):\n",
            "Country                31500 non-null object\n",
            "Name                   31500 non-null object\n",
            "NameFixed              31500 non-null object\n",
            "Pop1990                31500 non-null int64\n",
            "Pop1995                31500 non-null float64\n",
            "Pop2000                31500 non-null int64\n",
            "CityArea               31500 non-null float64\n",
            "CityTempDay            31492 non-null float64\n",
            "BufferTempDay          31500 non-null float64\n",
            "CityBufferDiffDay      31492 non-null float64\n",
            "CityTempNight          31434 non-null float64\n",
            "BufferTempNight        31496 non-null float64\n",
            "CityBufferDiffNight    31434 non-null float64\n",
            "Latitude               31500 non-null float64\n",
            "Longitude              31500 non-null float64\n",
            "dtypes: float64(10), int64(2), object(3)\n",
            "memory usage: 3.6+ MB\n"
          ],
          "name": "stdout"
        }
      ]
    },
    {
      "cell_type": "code",
      "metadata": {
        "id": "l6hayVe1q_he",
        "colab_type": "code",
        "outputId": "bf92c55b-ba3e-4351-b374-33f28bf613c2",
        "colab": {
          "base_uri": "https://localhost:8080/",
          "height": 364
        }
      },
      "source": [
        "cols = ['CityTempDay', 'CityBufferDiffDay', 'CityTempNight', 'BufferTempNight', 'CityBufferDiffNight'] \n",
        "df[cols] = df[cols].fillna(df.mean().iloc[0])\n",
        "df.info()"
      ],
      "execution_count": 0,
      "outputs": [
        {
          "output_type": "stream",
          "text": [
            "<class 'pandas.core.frame.DataFrame'>\n",
            "RangeIndex: 31500 entries, 0 to 31499\n",
            "Data columns (total 15 columns):\n",
            "Country                31500 non-null object\n",
            "Name                   31500 non-null object\n",
            "NameFixed              31500 non-null object\n",
            "Pop1990                31500 non-null int64\n",
            "Pop1995                31500 non-null float64\n",
            "Pop2000                31500 non-null int64\n",
            "CityArea               31500 non-null float64\n",
            "CityTempDay            31500 non-null float64\n",
            "BufferTempDay          31500 non-null float64\n",
            "CityBufferDiffDay      31500 non-null float64\n",
            "CityTempNight          31500 non-null float64\n",
            "BufferTempNight        31500 non-null float64\n",
            "CityBufferDiffNight    31500 non-null float64\n",
            "Latitude               31500 non-null float64\n",
            "Longitude              31500 non-null float64\n",
            "dtypes: float64(10), int64(2), object(3)\n",
            "memory usage: 3.6+ MB\n"
          ],
          "name": "stdout"
        }
      ]
    },
    {
      "cell_type": "code",
      "metadata": {
        "id": "YRF4V4t21k6n",
        "colab_type": "code",
        "colab": {}
      },
      "source": [
        "df['CityBufferAvg'] = (df['CityBufferDiffDay'] + df['CityBufferDiffNight'])/2"
      ],
      "execution_count": 0,
      "outputs": []
    },
    {
      "cell_type": "code",
      "metadata": {
        "id": "zjTc9iEGE8Mg",
        "colab_type": "code",
        "outputId": "127c0832-e0d5-4ada-8849-f9ed4d96976b",
        "colab": {
          "base_uri": "https://localhost:8080/",
          "height": 191
        }
      },
      "source": [
        "df_day = df.drop(columns=['Name', 'NameFixed', 'BufferTempDay', 'BufferTempNight', 'CityBufferDiffNight', 'CityBufferAvg'])\n",
        "corr_matrix = df_day.corr()\n",
        "corr_matrix['CityBufferDiffDay'].sort_values(ascending=False)"
      ],
      "execution_count": 0,
      "outputs": [
        {
          "output_type": "execute_result",
          "data": {
            "text/plain": [
              "CityBufferDiffDay    1.000000\n",
              "CityTempDay          0.999979\n",
              "CityTempNight       -0.000706\n",
              "Longitude           -0.001415\n",
              "Pop1990             -0.001593\n",
              "Pop1995             -0.001656\n",
              "Pop2000             -0.001707\n",
              "CityArea            -0.003176\n",
              "Latitude            -0.015274\n",
              "Name: CityBufferDiffDay, dtype: float64"
            ]
          },
          "metadata": {
            "tags": []
          },
          "execution_count": 6
        }
      ]
    },
    {
      "cell_type": "code",
      "metadata": {
        "id": "TnBf28bHFZeo",
        "colab_type": "code",
        "outputId": "ce4943de-d02b-4714-8461-17d1df913cde",
        "colab": {
          "base_uri": "https://localhost:8080/",
          "height": 191
        }
      },
      "source": [
        "df_night = df.drop(columns=['Name', 'NameFixed', 'BufferTempDay', 'BufferTempNight', 'CityBufferDiffDay', 'CityBufferAvg'])\n",
        "corr_matrix = df_night.corr()\n",
        "corr_matrix['CityBufferDiffNight'].sort_values(ascending=False)"
      ],
      "execution_count": 0,
      "outputs": [
        {
          "output_type": "execute_result",
          "data": {
            "text/plain": [
              "CityBufferDiffNight    1.000000\n",
              "CityTempNight          0.999998\n",
              "Longitude              0.015287\n",
              "CityTempDay           -0.000980\n",
              "Pop2000               -0.003124\n",
              "Pop1995               -0.003213\n",
              "Pop1990               -0.003250\n",
              "CityArea              -0.007591\n",
              "Latitude              -0.064255\n",
              "Name: CityBufferDiffNight, dtype: float64"
            ]
          },
          "metadata": {
            "tags": []
          },
          "execution_count": 7
        }
      ]
    },
    {
      "cell_type": "code",
      "metadata": {
        "id": "7hJbDoR_b6SR",
        "colab_type": "code",
        "outputId": "376475c1-704e-4f36-abb3-3763a72ad2ea",
        "colab": {
          "base_uri": "https://localhost:8080/",
          "height": 99
        }
      },
      "source": [
        "df.max().to_frame().T"
      ],
      "execution_count": 0,
      "outputs": [
        {
          "output_type": "execute_result",
          "data": {
            "text/html": [
              "<div>\n",
              "<style scoped>\n",
              "    .dataframe tbody tr th:only-of-type {\n",
              "        vertical-align: middle;\n",
              "    }\n",
              "\n",
              "    .dataframe tbody tr th {\n",
              "        vertical-align: top;\n",
              "    }\n",
              "\n",
              "    .dataframe thead th {\n",
              "        text-align: right;\n",
              "    }\n",
              "</style>\n",
              "<table border=\"1\" class=\"dataframe\">\n",
              "  <thead>\n",
              "    <tr style=\"text-align: right;\">\n",
              "      <th></th>\n",
              "      <th>Country</th>\n",
              "      <th>Name</th>\n",
              "      <th>NameFixed</th>\n",
              "      <th>Pop1990</th>\n",
              "      <th>Pop1995</th>\n",
              "      <th>Pop2000</th>\n",
              "      <th>CityArea</th>\n",
              "      <th>CityTempDay</th>\n",
              "      <th>BufferTempDay</th>\n",
              "      <th>CityBufferDiffDay</th>\n",
              "      <th>CityTempNight</th>\n",
              "      <th>BufferTempNight</th>\n",
              "      <th>CityBufferDiffNight</th>\n",
              "      <th>Latitude</th>\n",
              "      <th>Longitude</th>\n",
              "      <th>CityBufferAvg</th>\n",
              "    </tr>\n",
              "  </thead>\n",
              "  <tbody>\n",
              "    <tr>\n",
              "      <th>0</th>\n",
              "      <td>ZWE</td>\n",
              "      <td>ÃzÃ¼mlÃ¼</td>\n",
              "      <td>ZYWIEC</td>\n",
              "      <td>75437921</td>\n",
              "      <td>7.70475e+07</td>\n",
              "      <td>78582895</td>\n",
              "      <td>43605.8</td>\n",
              "      <td>71260.8</td>\n",
              "      <td>62.61</td>\n",
              "      <td>71260.8</td>\n",
              "      <td>71260.8</td>\n",
              "      <td>71260.8</td>\n",
              "      <td>71260.8</td>\n",
              "      <td>78.2018</td>\n",
              "      <td>179.362</td>\n",
              "      <td>35633.2</td>\n",
              "    </tr>\n",
              "  </tbody>\n",
              "</table>\n",
              "</div>"
            ],
            "text/plain": [
              "  Country       Name NameFixed  ... Latitude Longitude CityBufferAvg\n",
              "0     ZWE  ÃzÃ¼mlÃ¼    ZYWIEC  ...  78.2018   179.362       35633.2\n",
              "\n",
              "[1 rows x 16 columns]"
            ]
          },
          "metadata": {
            "tags": []
          },
          "execution_count": 8
        }
      ]
    },
    {
      "cell_type": "code",
      "metadata": {
        "id": "voXDa9AHcRgV",
        "colab_type": "code",
        "outputId": "ebfe9b95-1068-4c9b-e137-7df055cceaa7",
        "colab": {
          "base_uri": "https://localhost:8080/",
          "height": 99
        }
      },
      "source": [
        "df.min().to_frame().T"
      ],
      "execution_count": 0,
      "outputs": [
        {
          "output_type": "execute_result",
          "data": {
            "text/html": [
              "<div>\n",
              "<style scoped>\n",
              "    .dataframe tbody tr th:only-of-type {\n",
              "        vertical-align: middle;\n",
              "    }\n",
              "\n",
              "    .dataframe tbody tr th {\n",
              "        vertical-align: top;\n",
              "    }\n",
              "\n",
              "    .dataframe thead th {\n",
              "        text-align: right;\n",
              "    }\n",
              "</style>\n",
              "<table border=\"1\" class=\"dataframe\">\n",
              "  <thead>\n",
              "    <tr style=\"text-align: right;\">\n",
              "      <th></th>\n",
              "      <th>Country</th>\n",
              "      <th>Name</th>\n",
              "      <th>NameFixed</th>\n",
              "      <th>Pop1990</th>\n",
              "      <th>Pop1995</th>\n",
              "      <th>Pop2000</th>\n",
              "      <th>CityArea</th>\n",
              "      <th>CityTempDay</th>\n",
              "      <th>BufferTempDay</th>\n",
              "      <th>CityBufferDiffDay</th>\n",
              "      <th>CityTempNight</th>\n",
              "      <th>BufferTempNight</th>\n",
              "      <th>CityBufferDiffNight</th>\n",
              "      <th>Latitude</th>\n",
              "      <th>Longitude</th>\n",
              "      <th>CityBufferAvg</th>\n",
              "    </tr>\n",
              "  </thead>\n",
              "  <tbody>\n",
              "    <tr>\n",
              "      <th>0</th>\n",
              "      <td>ABW</td>\n",
              "      <td></td>\n",
              "      <td>25DEMAYO</td>\n",
              "      <td>0</td>\n",
              "      <td>26.7778</td>\n",
              "      <td>0</td>\n",
              "      <td>0</td>\n",
              "      <td>2.26</td>\n",
              "      <td>7.95</td>\n",
              "      <td>-30.91</td>\n",
              "      <td>-16.22</td>\n",
              "      <td>-10.86</td>\n",
              "      <td>-19.82</td>\n",
              "      <td>-54.804</td>\n",
              "      <td>-176.172</td>\n",
              "      <td>-15.54</td>\n",
              "    </tr>\n",
              "  </tbody>\n",
              "</table>\n",
              "</div>"
            ],
            "text/plain": [
              "  Country Name NameFixed  ... Latitude Longitude CityBufferAvg\n",
              "0     ABW       25DEMAYO  ...  -54.804  -176.172        -15.54\n",
              "\n",
              "[1 rows x 16 columns]"
            ]
          },
          "metadata": {
            "tags": []
          },
          "execution_count": 9
        }
      ]
    },
    {
      "cell_type": "code",
      "metadata": {
        "id": "Xkf8u5L-dS01",
        "colab_type": "code",
        "outputId": "714c8324-eecf-4e32-b458-860bd15f2085",
        "colab": {
          "base_uri": "https://localhost:8080/",
          "height": 208
        }
      },
      "source": [
        "df['CityBufferDiffDay'].nsmallest(10)"
      ],
      "execution_count": 0,
      "outputs": [
        {
          "output_type": "execute_result",
          "data": {
            "text/plain": [
              "25344   -30.91\n",
              "13877   -26.34\n",
              "13484   -24.24\n",
              "14041   -22.36\n",
              "13623   -19.84\n",
              "13443   -19.31\n",
              "25385   -18.66\n",
              "25126   -18.16\n",
              "13441   -16.95\n",
              "14222   -16.87\n",
              "Name: CityBufferDiffDay, dtype: float64"
            ]
          },
          "metadata": {
            "tags": []
          },
          "execution_count": 10
        }
      ]
    },
    {
      "cell_type": "code",
      "metadata": {
        "id": "rbxAbX31d2Jg",
        "colab_type": "code",
        "outputId": "4441af03-f2d2-48c2-d615-202f0553b4f0",
        "colab": {
          "base_uri": "https://localhost:8080/",
          "height": 208
        }
      },
      "source": [
        "smalldayoutliers = df.loc[(df['CityBufferDiffDay'] <= -16.87)]\n",
        "data = df.loc[(df['CityBufferDiffDay'] > -16.87)]\n",
        "df['CityBufferDiffDay'].nlargest(10)"
      ],
      "execution_count": 0,
      "outputs": [
        {
          "output_type": "execute_result",
          "data": {
            "text/plain": [
              "14493    71260.840667\n",
              "15924    71260.840667\n",
              "16662    71260.840667\n",
              "21311    71260.840667\n",
              "21480    71260.840667\n",
              "21728    71260.840667\n",
              "21921    71260.840667\n",
              "22546    71260.840667\n",
              "15769       16.710000\n",
              "27564       15.510000\n",
              "Name: CityBufferDiffDay, dtype: float64"
            ]
          },
          "metadata": {
            "tags": []
          },
          "execution_count": 11
        }
      ]
    },
    {
      "cell_type": "code",
      "metadata": {
        "id": "fkr-OWTRd86R",
        "colab_type": "code",
        "outputId": "a2c8444b-9b5f-4b9a-e432-86366964bcd0",
        "colab": {
          "base_uri": "https://localhost:8080/",
          "height": 208
        }
      },
      "source": [
        "largedayoutliers = df.loc[(df['CityBufferDiffDay'] >= 10.99)]\n",
        "data = data.loc[(data['CityBufferDiffDay'] < 10.99)]\n",
        "df['CityBufferDiffNight'].nsmallest(10)"
      ],
      "execution_count": 0,
      "outputs": [
        {
          "output_type": "execute_result",
          "data": {
            "text/plain": [
              "21434   -19.82\n",
              "24660   -16.37\n",
              "30960   -15.90\n",
              "13425   -15.01\n",
              "13466   -14.81\n",
              "24523   -13.88\n",
              "31256   -13.25\n",
              "23973   -12.81\n",
              "30753   -12.39\n",
              "20657   -12.19\n",
              "Name: CityBufferDiffNight, dtype: float64"
            ]
          },
          "metadata": {
            "tags": []
          },
          "execution_count": 12
        }
      ]
    },
    {
      "cell_type": "code",
      "metadata": {
        "id": "-11ndC9beB9s",
        "colab_type": "code",
        "outputId": "022a9502-aec6-46ca-cf56-b06ed3363a29",
        "colab": {
          "base_uri": "https://localhost:8080/",
          "height": 208
        }
      },
      "source": [
        "smallnightoutliers = df.loc[(df['CityBufferDiffNight'] <= -12.19)]\n",
        "data = data.loc[(data['CityBufferDiffNight'] > -12.19)]\n",
        "df['CityBufferDiffNight'].nlargest(10)"
      ],
      "execution_count": 0,
      "outputs": [
        {
          "output_type": "execute_result",
          "data": {
            "text/plain": [
              "17463    71260.840667\n",
              "17611    71260.840667\n",
              "17614    71260.840667\n",
              "17645    71260.840667\n",
              "17929    71260.840667\n",
              "17941    71260.840667\n",
              "17968    71260.840667\n",
              "17985    71260.840667\n",
              "17995    71260.840667\n",
              "18035    71260.840667\n",
              "Name: CityBufferDiffNight, dtype: float64"
            ]
          },
          "metadata": {
            "tags": []
          },
          "execution_count": 13
        }
      ]
    },
    {
      "cell_type": "code",
      "metadata": {
        "id": "J7hfaiPJfkVa",
        "colab_type": "code",
        "outputId": "99a9948a-52a1-47fd-8699-03ff16d4b266",
        "colab": {
          "base_uri": "https://localhost:8080/",
          "height": 355
        }
      },
      "source": [
        "largenightoutliers = df.loc[(df['CityBufferDiffNight'] >= 9.54)]\n",
        "data = data.loc[(data['CityBufferDiffNight'] < 9.54)]\n",
        "largedayoutliers = largedayoutliers[['Country', 'Name', 'CityBufferDiffDay']]\n",
        "largedayoutliers.sort_values('CityBufferDiffDay', ascending=False).head(10)"
      ],
      "execution_count": 0,
      "outputs": [
        {
          "output_type": "execute_result",
          "data": {
            "text/html": [
              "<div>\n",
              "<style scoped>\n",
              "    .dataframe tbody tr th:only-of-type {\n",
              "        vertical-align: middle;\n",
              "    }\n",
              "\n",
              "    .dataframe tbody tr th {\n",
              "        vertical-align: top;\n",
              "    }\n",
              "\n",
              "    .dataframe thead th {\n",
              "        text-align: right;\n",
              "    }\n",
              "</style>\n",
              "<table border=\"1\" class=\"dataframe\">\n",
              "  <thead>\n",
              "    <tr style=\"text-align: right;\">\n",
              "      <th></th>\n",
              "      <th>Country</th>\n",
              "      <th>Name</th>\n",
              "      <th>CityBufferDiffDay</th>\n",
              "    </tr>\n",
              "  </thead>\n",
              "  <tbody>\n",
              "    <tr>\n",
              "      <th>21921</th>\n",
              "      <td>PER</td>\n",
              "      <td>MORROPON</td>\n",
              "      <td>71260.840667</td>\n",
              "    </tr>\n",
              "    <tr>\n",
              "      <th>14493</th>\n",
              "      <td>MEX</td>\n",
              "      <td>Villa Adolpho Lopez Mateos</td>\n",
              "      <td>71260.840667</td>\n",
              "    </tr>\n",
              "    <tr>\n",
              "      <th>15924</th>\n",
              "      <td>BLZ</td>\n",
              "      <td>San Pedro</td>\n",
              "      <td>71260.840667</td>\n",
              "    </tr>\n",
              "    <tr>\n",
              "      <th>16662</th>\n",
              "      <td>KHM</td>\n",
              "      <td>Pouthisat</td>\n",
              "      <td>71260.840667</td>\n",
              "    </tr>\n",
              "    <tr>\n",
              "      <th>22546</th>\n",
              "      <td>CIV</td>\n",
              "      <td>Grand-Lahou</td>\n",
              "      <td>71260.840667</td>\n",
              "    </tr>\n",
              "    <tr>\n",
              "      <th>21311</th>\n",
              "      <td>PER</td>\n",
              "      <td>TAMARINDO</td>\n",
              "      <td>71260.840667</td>\n",
              "    </tr>\n",
              "    <tr>\n",
              "      <th>21480</th>\n",
              "      <td>KIR</td>\n",
              "      <td>Utiroa</td>\n",
              "      <td>71260.840667</td>\n",
              "    </tr>\n",
              "    <tr>\n",
              "      <th>21728</th>\n",
              "      <td>KIR</td>\n",
              "      <td>Ijaki</td>\n",
              "      <td>71260.840667</td>\n",
              "    </tr>\n",
              "    <tr>\n",
              "      <th>15769</th>\n",
              "      <td>IND</td>\n",
              "      <td>JAMKHED</td>\n",
              "      <td>16.710000</td>\n",
              "    </tr>\n",
              "    <tr>\n",
              "      <th>27564</th>\n",
              "      <td>IND</td>\n",
              "      <td>HEGGADDEVANKOTE</td>\n",
              "      <td>15.510000</td>\n",
              "    </tr>\n",
              "  </tbody>\n",
              "</table>\n",
              "</div>"
            ],
            "text/plain": [
              "      Country                        Name  CityBufferDiffDay\n",
              "21921     PER                    MORROPON       71260.840667\n",
              "14493     MEX  Villa Adolpho Lopez Mateos       71260.840667\n",
              "15924     BLZ                   San Pedro       71260.840667\n",
              "16662     KHM                   Pouthisat       71260.840667\n",
              "22546     CIV                 Grand-Lahou       71260.840667\n",
              "21311     PER                   TAMARINDO       71260.840667\n",
              "21480     KIR                      Utiroa       71260.840667\n",
              "21728     KIR                       Ijaki       71260.840667\n",
              "15769     IND                     JAMKHED          16.710000\n",
              "27564     IND             HEGGADDEVANKOTE          15.510000"
            ]
          },
          "metadata": {
            "tags": []
          },
          "execution_count": 14
        }
      ]
    },
    {
      "cell_type": "code",
      "metadata": {
        "id": "mLVGVpUmgL0P",
        "colab_type": "code",
        "outputId": "b3c4478d-d0b2-463f-c463-65cadca53e91",
        "colab": {
          "base_uri": "https://localhost:8080/",
          "height": 355
        }
      },
      "source": [
        "smalldayoutliers = smalldayoutliers[['Country', 'Name', 'CityBufferDiffDay']]\n",
        "smalldayoutliers.sort_values('CityBufferDiffDay', ascending=True).head(10)"
      ],
      "execution_count": 0,
      "outputs": [
        {
          "output_type": "execute_result",
          "data": {
            "text/html": [
              "<div>\n",
              "<style scoped>\n",
              "    .dataframe tbody tr th:only-of-type {\n",
              "        vertical-align: middle;\n",
              "    }\n",
              "\n",
              "    .dataframe tbody tr th {\n",
              "        vertical-align: top;\n",
              "    }\n",
              "\n",
              "    .dataframe thead th {\n",
              "        text-align: right;\n",
              "    }\n",
              "</style>\n",
              "<table border=\"1\" class=\"dataframe\">\n",
              "  <thead>\n",
              "    <tr style=\"text-align: right;\">\n",
              "      <th></th>\n",
              "      <th>Country</th>\n",
              "      <th>Name</th>\n",
              "      <th>CityBufferDiffDay</th>\n",
              "    </tr>\n",
              "  </thead>\n",
              "  <tbody>\n",
              "    <tr>\n",
              "      <th>25344</th>\n",
              "      <td>IND</td>\n",
              "      <td>BESWAN</td>\n",
              "      <td>-30.91</td>\n",
              "    </tr>\n",
              "    <tr>\n",
              "      <th>13877</th>\n",
              "      <td>NPL</td>\n",
              "      <td>Bhadrapur</td>\n",
              "      <td>-26.34</td>\n",
              "    </tr>\n",
              "    <tr>\n",
              "      <th>13484</th>\n",
              "      <td>IND</td>\n",
              "      <td>TIJARA</td>\n",
              "      <td>-24.24</td>\n",
              "    </tr>\n",
              "    <tr>\n",
              "      <th>14041</th>\n",
              "      <td>IND</td>\n",
              "      <td>INDERGARH</td>\n",
              "      <td>-22.36</td>\n",
              "    </tr>\n",
              "    <tr>\n",
              "      <th>13623</th>\n",
              "      <td>IND</td>\n",
              "      <td>REENGUS</td>\n",
              "      <td>-19.84</td>\n",
              "    </tr>\n",
              "    <tr>\n",
              "      <th>13443</th>\n",
              "      <td>IND</td>\n",
              "      <td>ATELI</td>\n",
              "      <td>-19.31</td>\n",
              "    </tr>\n",
              "    <tr>\n",
              "      <th>25385</th>\n",
              "      <td>IND</td>\n",
              "      <td>PURDILNAGAR</td>\n",
              "      <td>-18.66</td>\n",
              "    </tr>\n",
              "    <tr>\n",
              "      <th>25126</th>\n",
              "      <td>IND</td>\n",
              "      <td>KUNWARGAON</td>\n",
              "      <td>-18.16</td>\n",
              "    </tr>\n",
              "    <tr>\n",
              "      <th>13441</th>\n",
              "      <td>IND</td>\n",
              "      <td>DUNGARGARH</td>\n",
              "      <td>-16.95</td>\n",
              "    </tr>\n",
              "    <tr>\n",
              "      <th>14222</th>\n",
              "      <td>IND</td>\n",
              "      <td>RANIPUR</td>\n",
              "      <td>-16.87</td>\n",
              "    </tr>\n",
              "  </tbody>\n",
              "</table>\n",
              "</div>"
            ],
            "text/plain": [
              "      Country         Name  CityBufferDiffDay\n",
              "25344     IND       BESWAN             -30.91\n",
              "13877     NPL    Bhadrapur             -26.34\n",
              "13484     IND       TIJARA             -24.24\n",
              "14041     IND    INDERGARH             -22.36\n",
              "13623     IND      REENGUS             -19.84\n",
              "13443     IND        ATELI             -19.31\n",
              "25385     IND  PURDILNAGAR             -18.66\n",
              "25126     IND   KUNWARGAON             -18.16\n",
              "13441     IND   DUNGARGARH             -16.95\n",
              "14222     IND      RANIPUR             -16.87"
            ]
          },
          "metadata": {
            "tags": []
          },
          "execution_count": 15
        }
      ]
    },
    {
      "cell_type": "code",
      "metadata": {
        "id": "srncnl5JgQu9",
        "colab_type": "code",
        "outputId": "00021770-b564-43c9-ca02-a5fb8a7b23be",
        "colab": {
          "base_uri": "https://localhost:8080/",
          "height": 355
        }
      },
      "source": [
        "largenightoutliers = largenightoutliers[['Country', 'Name', 'CityBufferDiffNight']]\n",
        "largenightoutliers.sort_values('CityBufferDiffNight', ascending=False).head(10)"
      ],
      "execution_count": 0,
      "outputs": [
        {
          "output_type": "execute_result",
          "data": {
            "text/html": [
              "<div>\n",
              "<style scoped>\n",
              "    .dataframe tbody tr th:only-of-type {\n",
              "        vertical-align: middle;\n",
              "    }\n",
              "\n",
              "    .dataframe tbody tr th {\n",
              "        vertical-align: top;\n",
              "    }\n",
              "\n",
              "    .dataframe thead th {\n",
              "        text-align: right;\n",
              "    }\n",
              "</style>\n",
              "<table border=\"1\" class=\"dataframe\">\n",
              "  <thead>\n",
              "    <tr style=\"text-align: right;\">\n",
              "      <th></th>\n",
              "      <th>Country</th>\n",
              "      <th>Name</th>\n",
              "      <th>CityBufferDiffNight</th>\n",
              "    </tr>\n",
              "  </thead>\n",
              "  <tbody>\n",
              "    <tr>\n",
              "      <th>22367</th>\n",
              "      <td>IDN</td>\n",
              "      <td>Pringsewu</td>\n",
              "      <td>71260.840667</td>\n",
              "    </tr>\n",
              "    <tr>\n",
              "      <th>23321</th>\n",
              "      <td>IDN</td>\n",
              "      <td>Babat</td>\n",
              "      <td>71260.840667</td>\n",
              "    </tr>\n",
              "    <tr>\n",
              "      <th>23901</th>\n",
              "      <td>CMR</td>\n",
              "      <td></td>\n",
              "      <td>71260.840667</td>\n",
              "    </tr>\n",
              "    <tr>\n",
              "      <th>23754</th>\n",
              "      <td>COD</td>\n",
              "      <td>Dekese</td>\n",
              "      <td>71260.840667</td>\n",
              "    </tr>\n",
              "    <tr>\n",
              "      <th>23680</th>\n",
              "      <td>CMR</td>\n",
              "      <td></td>\n",
              "      <td>71260.840667</td>\n",
              "    </tr>\n",
              "    <tr>\n",
              "      <th>23572</th>\n",
              "      <td>IDN</td>\n",
              "      <td>Ngoro</td>\n",
              "      <td>71260.840667</td>\n",
              "    </tr>\n",
              "    <tr>\n",
              "      <th>23477</th>\n",
              "      <td>IDN</td>\n",
              "      <td>Sidareja</td>\n",
              "      <td>71260.840667</td>\n",
              "    </tr>\n",
              "    <tr>\n",
              "      <th>23347</th>\n",
              "      <td>IDN</td>\n",
              "      <td>Margasari</td>\n",
              "      <td>71260.840667</td>\n",
              "    </tr>\n",
              "    <tr>\n",
              "      <th>23293</th>\n",
              "      <td>IDN</td>\n",
              "      <td>Randudongkal</td>\n",
              "      <td>71260.840667</td>\n",
              "    </tr>\n",
              "    <tr>\n",
              "      <th>20716</th>\n",
              "      <td>PNG</td>\n",
              "      <td>Ambunti</td>\n",
              "      <td>71260.840667</td>\n",
              "    </tr>\n",
              "  </tbody>\n",
              "</table>\n",
              "</div>"
            ],
            "text/plain": [
              "      Country          Name  CityBufferDiffNight\n",
              "22367     IDN     Pringsewu         71260.840667\n",
              "23321     IDN         Babat         71260.840667\n",
              "23901     CMR                       71260.840667\n",
              "23754     COD        Dekese         71260.840667\n",
              "23680     CMR                       71260.840667\n",
              "23572     IDN         Ngoro         71260.840667\n",
              "23477     IDN      Sidareja         71260.840667\n",
              "23347     IDN     Margasari         71260.840667\n",
              "23293     IDN  Randudongkal         71260.840667\n",
              "20716     PNG       Ambunti         71260.840667"
            ]
          },
          "metadata": {
            "tags": []
          },
          "execution_count": 16
        }
      ]
    },
    {
      "cell_type": "code",
      "metadata": {
        "id": "A4BICZWc5Xl6",
        "colab_type": "code",
        "outputId": "18c388d5-4556-4ff0-951f-d9bd26fcbf93",
        "colab": {
          "base_uri": "https://localhost:8080/",
          "height": 355
        }
      },
      "source": [
        "smallnightoutliers = smallnightoutliers[['Country', 'Name', 'CityBufferDiffNight']]\n",
        "smallnightoutliers.sort_values('CityBufferDiffNight', ascending=True).head(10)"
      ],
      "execution_count": 0,
      "outputs": [
        {
          "output_type": "execute_result",
          "data": {
            "text/html": [
              "<div>\n",
              "<style scoped>\n",
              "    .dataframe tbody tr th:only-of-type {\n",
              "        vertical-align: middle;\n",
              "    }\n",
              "\n",
              "    .dataframe tbody tr th {\n",
              "        vertical-align: top;\n",
              "    }\n",
              "\n",
              "    .dataframe thead th {\n",
              "        text-align: right;\n",
              "    }\n",
              "</style>\n",
              "<table border=\"1\" class=\"dataframe\">\n",
              "  <thead>\n",
              "    <tr style=\"text-align: right;\">\n",
              "      <th></th>\n",
              "      <th>Country</th>\n",
              "      <th>Name</th>\n",
              "      <th>CityBufferDiffNight</th>\n",
              "    </tr>\n",
              "  </thead>\n",
              "  <tbody>\n",
              "    <tr>\n",
              "      <th>21434</th>\n",
              "      <td>NPL</td>\n",
              "      <td>Kapilbastu</td>\n",
              "      <td>-19.82</td>\n",
              "    </tr>\n",
              "    <tr>\n",
              "      <th>24660</th>\n",
              "      <td>ETH</td>\n",
              "      <td></td>\n",
              "      <td>-16.37</td>\n",
              "    </tr>\n",
              "    <tr>\n",
              "      <th>30960</th>\n",
              "      <td>CHN</td>\n",
              "      <td>Laochang</td>\n",
              "      <td>-15.90</td>\n",
              "    </tr>\n",
              "    <tr>\n",
              "      <th>13425</th>\n",
              "      <td>IND</td>\n",
              "      <td>FARIDPUR</td>\n",
              "      <td>-15.01</td>\n",
              "    </tr>\n",
              "    <tr>\n",
              "      <th>13466</th>\n",
              "      <td>IND</td>\n",
              "      <td>DATAGANJ</td>\n",
              "      <td>-14.81</td>\n",
              "    </tr>\n",
              "    <tr>\n",
              "      <th>24523</th>\n",
              "      <td>IND</td>\n",
              "      <td>BAHSUMA</td>\n",
              "      <td>-13.88</td>\n",
              "    </tr>\n",
              "    <tr>\n",
              "      <th>31256</th>\n",
              "      <td>CHN</td>\n",
              "      <td>Boshang</td>\n",
              "      <td>-13.25</td>\n",
              "    </tr>\n",
              "    <tr>\n",
              "      <th>23973</th>\n",
              "      <td>ETH</td>\n",
              "      <td></td>\n",
              "      <td>-12.81</td>\n",
              "    </tr>\n",
              "    <tr>\n",
              "      <th>30753</th>\n",
              "      <td>CHN</td>\n",
              "      <td>Sayingpan</td>\n",
              "      <td>-12.39</td>\n",
              "    </tr>\n",
              "    <tr>\n",
              "      <th>20657</th>\n",
              "      <td>BTN</td>\n",
              "      <td>Punakha</td>\n",
              "      <td>-12.19</td>\n",
              "    </tr>\n",
              "  </tbody>\n",
              "</table>\n",
              "</div>"
            ],
            "text/plain": [
              "      Country        Name  CityBufferDiffNight\n",
              "21434     NPL  Kapilbastu               -19.82\n",
              "24660     ETH                           -16.37\n",
              "30960     CHN    Laochang               -15.90\n",
              "13425     IND    FARIDPUR               -15.01\n",
              "13466     IND    DATAGANJ               -14.81\n",
              "24523     IND     BAHSUMA               -13.88\n",
              "31256     CHN     Boshang               -13.25\n",
              "23973     ETH                           -12.81\n",
              "30753     CHN   Sayingpan               -12.39\n",
              "20657     BTN     Punakha               -12.19"
            ]
          },
          "metadata": {
            "tags": []
          },
          "execution_count": 17
        }
      ]
    },
    {
      "cell_type": "code",
      "metadata": {
        "id": "MtyIDCmx5ihX",
        "colab_type": "code",
        "outputId": "cb7ab425-887e-4d3c-df95-209da6df625d",
        "colab": {
          "base_uri": "https://localhost:8080/",
          "height": 355
        }
      },
      "source": [
        "averageoutliers = df[['Country', 'Name', 'CityBufferAvg']]\n",
        "averageoutliers.sort_values('CityBufferAvg', ascending=False).head(10)"
      ],
      "execution_count": 0,
      "outputs": [
        {
          "output_type": "execute_result",
          "data": {
            "text/html": [
              "<div>\n",
              "<style scoped>\n",
              "    .dataframe tbody tr th:only-of-type {\n",
              "        vertical-align: middle;\n",
              "    }\n",
              "\n",
              "    .dataframe tbody tr th {\n",
              "        vertical-align: top;\n",
              "    }\n",
              "\n",
              "    .dataframe thead th {\n",
              "        text-align: right;\n",
              "    }\n",
              "</style>\n",
              "<table border=\"1\" class=\"dataframe\">\n",
              "  <thead>\n",
              "    <tr style=\"text-align: right;\">\n",
              "      <th></th>\n",
              "      <th>Country</th>\n",
              "      <th>Name</th>\n",
              "      <th>CityBufferAvg</th>\n",
              "    </tr>\n",
              "  </thead>\n",
              "  <tbody>\n",
              "    <tr>\n",
              "      <th>20695</th>\n",
              "      <td>AGO</td>\n",
              "      <td>UÃ­ge</td>\n",
              "      <td>35633.150333</td>\n",
              "    </tr>\n",
              "    <tr>\n",
              "      <th>18374</th>\n",
              "      <td>TZA</td>\n",
              "      <td>Tunduma</td>\n",
              "      <td>35632.860333</td>\n",
              "    </tr>\n",
              "    <tr>\n",
              "      <th>20468</th>\n",
              "      <td>AGO</td>\n",
              "      <td>Mbanza Congo</td>\n",
              "      <td>35632.685333</td>\n",
              "    </tr>\n",
              "    <tr>\n",
              "      <th>21034</th>\n",
              "      <td>ZMB</td>\n",
              "      <td></td>\n",
              "      <td>35632.415333</td>\n",
              "    </tr>\n",
              "    <tr>\n",
              "      <th>17941</th>\n",
              "      <td>ECU</td>\n",
              "      <td>Jipijapa</td>\n",
              "      <td>35632.255333</td>\n",
              "    </tr>\n",
              "    <tr>\n",
              "      <th>23680</th>\n",
              "      <td>CMR</td>\n",
              "      <td></td>\n",
              "      <td>35631.985333</td>\n",
              "    </tr>\n",
              "    <tr>\n",
              "      <th>18035</th>\n",
              "      <td>IDN</td>\n",
              "      <td>Curup</td>\n",
              "      <td>35631.830333</td>\n",
              "    </tr>\n",
              "    <tr>\n",
              "      <th>18318</th>\n",
              "      <td>IDN</td>\n",
              "      <td>Tulungagung</td>\n",
              "      <td>35631.780333</td>\n",
              "    </tr>\n",
              "    <tr>\n",
              "      <th>18285</th>\n",
              "      <td>IDN</td>\n",
              "      <td>Kebumen</td>\n",
              "      <td>35631.535333</td>\n",
              "    </tr>\n",
              "    <tr>\n",
              "      <th>25315</th>\n",
              "      <td>COL</td>\n",
              "      <td>MAGUI</td>\n",
              "      <td>35631.505333</td>\n",
              "    </tr>\n",
              "  </tbody>\n",
              "</table>\n",
              "</div>"
            ],
            "text/plain": [
              "      Country          Name  CityBufferAvg\n",
              "20695     AGO         UÃ­ge   35633.150333\n",
              "18374     TZA       Tunduma   35632.860333\n",
              "20468     AGO  Mbanza Congo   35632.685333\n",
              "21034     ZMB                 35632.415333\n",
              "17941     ECU      Jipijapa   35632.255333\n",
              "23680     CMR                 35631.985333\n",
              "18035     IDN         Curup   35631.830333\n",
              "18318     IDN   Tulungagung   35631.780333\n",
              "18285     IDN       Kebumen   35631.535333\n",
              "25315     COL         MAGUI   35631.505333"
            ]
          },
          "metadata": {
            "tags": []
          },
          "execution_count": 18
        }
      ]
    },
    {
      "cell_type": "code",
      "metadata": {
        "id": "Z8LV1wsv5pU_",
        "colab_type": "code",
        "outputId": "ca4c4edb-98b5-4bc5-9a12-663a578ee7f3",
        "colab": {
          "base_uri": "https://localhost:8080/",
          "height": 355
        }
      },
      "source": [
        "averageoutliers.sort_values('CityBufferAvg', ascending=True).head(10)"
      ],
      "execution_count": 0,
      "outputs": [
        {
          "output_type": "execute_result",
          "data": {
            "text/html": [
              "<div>\n",
              "<style scoped>\n",
              "    .dataframe tbody tr th:only-of-type {\n",
              "        vertical-align: middle;\n",
              "    }\n",
              "\n",
              "    .dataframe tbody tr th {\n",
              "        vertical-align: top;\n",
              "    }\n",
              "\n",
              "    .dataframe thead th {\n",
              "        text-align: right;\n",
              "    }\n",
              "</style>\n",
              "<table border=\"1\" class=\"dataframe\">\n",
              "  <thead>\n",
              "    <tr style=\"text-align: right;\">\n",
              "      <th></th>\n",
              "      <th>Country</th>\n",
              "      <th>Name</th>\n",
              "      <th>CityBufferAvg</th>\n",
              "    </tr>\n",
              "  </thead>\n",
              "  <tbody>\n",
              "    <tr>\n",
              "      <th>25344</th>\n",
              "      <td>IND</td>\n",
              "      <td>BESWAN</td>\n",
              "      <td>-15.540</td>\n",
              "    </tr>\n",
              "    <tr>\n",
              "      <th>13877</th>\n",
              "      <td>NPL</td>\n",
              "      <td>Bhadrapur</td>\n",
              "      <td>-14.990</td>\n",
              "    </tr>\n",
              "    <tr>\n",
              "      <th>13484</th>\n",
              "      <td>IND</td>\n",
              "      <td>TIJARA</td>\n",
              "      <td>-12.545</td>\n",
              "    </tr>\n",
              "    <tr>\n",
              "      <th>21434</th>\n",
              "      <td>NPL</td>\n",
              "      <td>Kapilbastu</td>\n",
              "      <td>-11.780</td>\n",
              "    </tr>\n",
              "    <tr>\n",
              "      <th>14041</th>\n",
              "      <td>IND</td>\n",
              "      <td>INDERGARH</td>\n",
              "      <td>-11.240</td>\n",
              "    </tr>\n",
              "    <tr>\n",
              "      <th>31256</th>\n",
              "      <td>CHN</td>\n",
              "      <td>Boshang</td>\n",
              "      <td>-10.285</td>\n",
              "    </tr>\n",
              "    <tr>\n",
              "      <th>13623</th>\n",
              "      <td>IND</td>\n",
              "      <td>REENGUS</td>\n",
              "      <td>-9.885</td>\n",
              "    </tr>\n",
              "    <tr>\n",
              "      <th>13443</th>\n",
              "      <td>IND</td>\n",
              "      <td>ATELI</td>\n",
              "      <td>-9.835</td>\n",
              "    </tr>\n",
              "    <tr>\n",
              "      <th>24660</th>\n",
              "      <td>ETH</td>\n",
              "      <td></td>\n",
              "      <td>-9.700</td>\n",
              "    </tr>\n",
              "    <tr>\n",
              "      <th>30960</th>\n",
              "      <td>CHN</td>\n",
              "      <td>Laochang</td>\n",
              "      <td>-9.675</td>\n",
              "    </tr>\n",
              "  </tbody>\n",
              "</table>\n",
              "</div>"
            ],
            "text/plain": [
              "      Country        Name  CityBufferAvg\n",
              "25344     IND      BESWAN        -15.540\n",
              "13877     NPL   Bhadrapur        -14.990\n",
              "13484     IND      TIJARA        -12.545\n",
              "21434     NPL  Kapilbastu        -11.780\n",
              "14041     IND   INDERGARH        -11.240\n",
              "31256     CHN     Boshang        -10.285\n",
              "13623     IND     REENGUS         -9.885\n",
              "13443     IND       ATELI         -9.835\n",
              "24660     ETH                     -9.700\n",
              "30960     CHN    Laochang         -9.675"
            ]
          },
          "metadata": {
            "tags": []
          },
          "execution_count": 19
        }
      ]
    },
    {
      "cell_type": "markdown",
      "metadata": {
        "id": "Pb1r4lp4Tz7V",
        "colab_type": "text"
      },
      "source": [
        "# Data Visualization"
      ]
    },
    {
      "cell_type": "code",
      "metadata": {
        "id": "blYc4QNaYT24",
        "colab_type": "code",
        "outputId": "c509ebb0-8525-4014-96db-b21b9a7e785f",
        "colab": {
          "base_uri": "https://localhost:8080/",
          "height": 295
        }
      },
      "source": [
        "# Map of entire world, excluding major outliers in order to show more color differentiation\n",
        "maxdiff = 10.99\n",
        "mindiff = -16.87\n",
        "plt.scatter(x=data[\"Longitude\"], y=data[\"Latitude\"], c=data[\"CityBufferDiffDay\"], cmap = 'jet', alpha=0.2)\n",
        "cbar = plt.colorbar()\n",
        "plt.clim(mindiff, maxdiff)\n",
        "plt.title('City Buffer Difference Day, World', size=12, weight='bold')\n",
        "plt.xlabel('Latitude', size=10, weight='bold')\n",
        "plt.ylabel('Longitude', size=10, weight='bold')\n",
        "plt.show()"
      ],
      "execution_count": 0,
      "outputs": [
        {
          "output_type": "display_data",
          "data": {
            "image/png": "[encoded data removed]",
            "text/plain": [
              "<Figure size 432x288 with 2 Axes>"
            ]
          },
          "metadata": {
            "tags": []
          }
        }
      ]
    },
    {
      "cell_type": "code",
      "metadata": {
        "id": "lPUeiUd8M3DQ",
        "colab_type": "code",
        "outputId": "50434df4-98e7-4b62-805f-9b0e33ea089e",
        "colab": {
          "base_uri": "https://localhost:8080/",
          "height": 295
        }
      },
      "source": [
        "# Same color scale is kept in both day and night world overviews\n",
        "plt.scatter(x=data[\"Longitude\"], y=data[\"Latitude\"], c=data[\"CityBufferDiffNight\"], cmap = 'jet', alpha=0.2)\n",
        "cbar = plt.colorbar()\n",
        "plt.clim(mindiff, maxdiff)\n",
        "plt.title('City Buffer Difference Night, World', size=12, weight='bold')\n",
        "plt.xlabel('Latitude', size=10, weight='bold')\n",
        "plt.ylabel('Longitude', size=10, weight='bold')\n",
        "plt.show()"
      ],
      "execution_count": 0,
      "outputs": [
        {
          "output_type": "display_data",
          "data": {
            "image/png": "[encoded data removed]",
            "text/plain": [
              "<Figure size 432x288 with 2 Axes>"
            ]
          },
          "metadata": {
            "tags": []
          }
        }
      ]
    },
    {
      "cell_type": "code",
      "metadata": {
        "id": "NQxcCQUqM4z6",
        "colab_type": "code",
        "outputId": "30416946-7c29-4dea-d928-2ef79cdd4a54",
        "colab": {
          "base_uri": "https://localhost:8080/",
          "height": 121
        }
      },
      "source": [
        "USA = data.loc[df['Country'] == 'USA']\n",
        "USA['CityBufferDiffDay'].nlargest(5)"
      ],
      "execution_count": 0,
      "outputs": [
        {
          "output_type": "execute_result",
          "data": {
            "text/plain": [
              "8028    9.13\n",
              "3500    8.69\n",
              "8333    8.37\n",
              "5050    8.09\n",
              "9809    7.93\n",
              "Name: CityBufferDiffDay, dtype: float64"
            ]
          },
          "metadata": {
            "tags": []
          },
          "execution_count": 22
        }
      ]
    },
    {
      "cell_type": "code",
      "metadata": {
        "id": "otVOaoEhldXP",
        "colab_type": "code",
        "outputId": "7f6541df-5d86-431a-f092-5cc7a04c45c3",
        "colab": {
          "base_uri": "https://localhost:8080/",
          "height": 121
        }
      },
      "source": [
        "USA['CityBufferDiffDay'].nsmallest(5)"
      ],
      "execution_count": 0,
      "outputs": [
        {
          "output_type": "execute_result",
          "data": {
            "text/plain": [
              "3888    -9.43\n",
              "5827    -8.92\n",
              "6754    -8.59\n",
              "24834   -7.94\n",
              "5335    -7.85\n",
              "Name: CityBufferDiffDay, dtype: float64"
            ]
          },
          "metadata": {
            "tags": []
          },
          "execution_count": 23
        }
      ]
    },
    {
      "cell_type": "code",
      "metadata": {
        "id": "YceMFPXBlgVk",
        "colab_type": "code",
        "outputId": "99366703-e011-4e03-da3a-804e175f4ef5",
        "colab": {
          "base_uri": "https://localhost:8080/",
          "height": 121
        }
      },
      "source": [
        "USA['CityBufferDiffNight'].nlargest(5)"
      ],
      "execution_count": 0,
      "outputs": [
        {
          "output_type": "execute_result",
          "data": {
            "text/plain": [
              "8623    6.65\n",
              "7296    4.90\n",
              "9143    4.90\n",
              "602     4.06\n",
              "8797    3.69\n",
              "Name: CityBufferDiffNight, dtype: float64"
            ]
          },
          "metadata": {
            "tags": []
          },
          "execution_count": 24
        }
      ]
    },
    {
      "cell_type": "code",
      "metadata": {
        "id": "uRFMw6vxlkJ3",
        "colab_type": "code",
        "outputId": "34dc51a3-6d0a-4b56-aee8-383304c7b6da",
        "colab": {
          "base_uri": "https://localhost:8080/",
          "height": 121
        }
      },
      "source": [
        "USA['CityBufferDiffNight'].nsmallest(5)"
      ],
      "execution_count": 0,
      "outputs": [
        {
          "output_type": "execute_result",
          "data": {
            "text/plain": [
              "10467   -4.88\n",
              "8425    -4.32\n",
              "4912    -3.57\n",
              "25908   -3.54\n",
              "9062    -3.44\n",
              "Name: CityBufferDiffNight, dtype: float64"
            ]
          },
          "metadata": {
            "tags": []
          },
          "execution_count": 25
        }
      ]
    },
    {
      "cell_type": "code",
      "metadata": {
        "id": "t2MqNT5vloiV",
        "colab_type": "code",
        "colab": {}
      },
      "source": [
        "mindiff = -9.43\n",
        "maxdiff = 9.13"
      ],
      "execution_count": 0,
      "outputs": []
    },
    {
      "cell_type": "code",
      "metadata": {
        "id": "qlCGKwN0OeL-",
        "colab_type": "code",
        "outputId": "abfe8b32-f38a-47b3-c89c-3bbfd69d505c",
        "colab": {
          "base_uri": "https://localhost:8080/",
          "height": 295
        }
      },
      "source": [
        "plt.scatter(x=USA[\"Longitude\"], y=USA[\"Latitude\"], c=USA[\"CityBufferDiffDay\"], cmap = 'jet', alpha=0.2)\n",
        "cbar = plt.colorbar()\n",
        "plt.clim(mindiff, maxdiff)\n",
        "plt.title('City Buffer Difference Day, USA', size=12, weight='bold')\n",
        "plt.xlabel('Latitude', size=10, weight='bold')\n",
        "plt.ylabel('Longitude', size=10, weight='bold')\n",
        "plt.show()"
      ],
      "execution_count": 0,
      "outputs": [
        {
          "output_type": "display_data",
          "data": {
            "image/png": "[encoded data removed]",
            "text/plain": [
              "<Figure size 432x288 with 2 Axes>"
            ]
          },
          "metadata": {
            "tags": []
          }
        }
      ]
    },
    {
      "cell_type": "code",
      "metadata": {
        "id": "ZN8nEZKpOm7N",
        "colab_type": "code",
        "colab": {}
      },
      "source": [
        "USA_small = USA.loc[(USA['Latitude'] >= 21) & (USA['Latitude'] <= 50)]\n",
        "USA_small = USA_small.loc[(USA_small['Longitude'] >= -130)]"
      ],
      "execution_count": 0,
      "outputs": []
    },
    {
      "cell_type": "code",
      "metadata": {
        "id": "nRrKp3gmWiZI",
        "colab_type": "code",
        "outputId": "f3ce78ea-e688-4b4a-9818-c6571470ef9c",
        "colab": {
          "base_uri": "https://localhost:8080/",
          "height": 295
        }
      },
      "source": [
        "# United States City - Buffer during the day\n",
        "plt.scatter(x=USA_small[\"Longitude\"], y=USA_small[\"Latitude\"], c=USA_small[\"CityBufferDiffDay\"], cmap = 'jet', alpha=0.2)\n",
        "cbar = plt.colorbar()\n",
        "plt.clim(mindiff, maxdiff)\n",
        "plt.title('City Buffer Difference Day, USA', size=12, weight='bold')\n",
        "plt.xlabel('Latitude', size=10, weight='bold')\n",
        "plt.ylabel('Longitude', size=10, weight='bold')\n",
        "plt.show()"
      ],
      "execution_count": 0,
      "outputs": [
        {
          "output_type": "display_data",
          "data": {
            "image/png": "[encoded data removed]",
            "text/plain": [
              "<Figure size 432x288 with 2 Axes>"
            ]
          },
          "metadata": {
            "tags": []
          }
        }
      ]
    },
    {
      "cell_type": "code",
      "metadata": {
        "id": "pt46PRImPVtJ",
        "colab_type": "code",
        "outputId": "67fa70f2-b2a8-4cbc-e8e6-580159088423",
        "colab": {
          "base_uri": "https://localhost:8080/",
          "height": 295
        }
      },
      "source": [
        "# United States City - Buffer average during the night\n",
        "plt.scatter(x=USA_small[\"Longitude\"], y=USA_small[\"Latitude\"], c=USA_small[\"CityBufferDiffNight\"], cmap = 'jet', alpha=0.2)\n",
        "cbar = plt.colorbar()\n",
        "plt.clim(mindiff, maxdiff)\n",
        "plt.title('City Buffer Difference Night, USA', size=12, weight='bold')\n",
        "plt.xlabel('Latitude', size=10, weight='bold')\n",
        "plt.ylabel('Longitude', size=10, weight='bold')\n",
        "plt.show()"
      ],
      "execution_count": 0,
      "outputs": [
        {
          "output_type": "display_data",
          "data": {
            "image/png": "[encoded data removed]",
            "text/plain": [
              "<Figure size 432x288 with 2 Axes>"
            ]
          },
          "metadata": {
            "tags": []
          }
        }
      ]
    },
    {
      "cell_type": "code",
      "metadata": {
        "id": "jdoh8n6fyoeI",
        "colab_type": "code",
        "outputId": "18193eb1-1127-406f-8fb3-8d1822092cb5",
        "colab": {
          "base_uri": "https://localhost:8080/",
          "height": 295
        }
      },
      "source": [
        "# United States city - buffer averaged between day and night\n",
        "\n",
        "plt.scatter(x=USA_small[\"Longitude\"], y=USA_small[\"Latitude\"], c=USA_small[\"CityBufferAvg\"], cmap = 'jet', alpha=0.2)\n",
        "cbar = plt.colorbar()\n",
        "plt.clim(mindiff, maxdiff)\n",
        "plt.title('City Buffer Difference Average, USA', size=12, weight='bold')\n",
        "plt.xlabel('Latitude', size=10, weight='bold')\n",
        "plt.ylabel('Longitude', size=10, weight='bold')\n",
        "plt.show()"
      ],
      "execution_count": 0,
      "outputs": [
        {
          "output_type": "display_data",
          "data": {
            "image/png": "[encoded data removed]",
            "text/plain": [
              "<Figure size 432x288 with 2 Axes>"
            ]
          },
          "metadata": {
            "tags": []
          }
        }
      ]
    },
    {
      "cell_type": "code",
      "metadata": {
        "id": "ii3ir9r02zvD",
        "colab_type": "code",
        "outputId": "9ece76eb-5c73-48c5-c89c-87ed8d7b99eb",
        "colab": {
          "base_uri": "https://localhost:8080/",
          "height": 295
        }
      },
      "source": [
        "# Changed color bar to see more difference\n",
        "plt.scatter(x=USA_small[\"Longitude\"], y=USA_small[\"Latitude\"], c=USA_small[\"CityBufferAvg\"], cmap = 'jet', alpha=0.2)\n",
        "cbar = plt.colorbar()\n",
        "# plt.clim(mindiff, maxdiff)\n",
        "plt.title('City Buffer Difference Average, USA', size=12, weight='bold')\n",
        "plt.xlabel('Latitude', size=10, weight='bold')\n",
        "plt.ylabel('Longitude', size=10, weight='bold')\n",
        "plt.show()"
      ],
      "execution_count": 0,
      "outputs": [
        {
          "output_type": "display_data",
          "data": {
            "image/png": "[encoded data removed]",
            "text/plain": [
              "<Figure size 432x288 with 2 Axes>"
            ]
          },
          "metadata": {
            "tags": []
          }
        }
      ]
    },
    {
      "cell_type": "code",
      "metadata": {
        "id": "M6u4wEal3DZu",
        "colab_type": "code",
        "outputId": "9535ae5b-1037-41d6-d8ab-1a65df39c4d4",
        "colab": {
          "base_uri": "https://localhost:8080/",
          "height": 202
        }
      },
      "source": [
        "averages = USA.sort_values('CityBufferDiffDay', ascending=True)\n",
        "averages = averages[['Country', 'Name', 'CityBufferDiffDay']]\n",
        "averages.head()"
      ],
      "execution_count": 0,
      "outputs": [
        {
          "output_type": "execute_result",
          "data": {
            "text/html": [
              "<div>\n",
              "<style scoped>\n",
              "    .dataframe tbody tr th:only-of-type {\n",
              "        vertical-align: middle;\n",
              "    }\n",
              "\n",
              "    .dataframe tbody tr th {\n",
              "        vertical-align: top;\n",
              "    }\n",
              "\n",
              "    .dataframe thead th {\n",
              "        text-align: right;\n",
              "    }\n",
              "</style>\n",
              "<table border=\"1\" class=\"dataframe\">\n",
              "  <thead>\n",
              "    <tr style=\"text-align: right;\">\n",
              "      <th></th>\n",
              "      <th>Country</th>\n",
              "      <th>Name</th>\n",
              "      <th>CityBufferDiffDay</th>\n",
              "    </tr>\n",
              "  </thead>\n",
              "  <tbody>\n",
              "    <tr>\n",
              "      <th>3888</th>\n",
              "      <td>USA</td>\n",
              "      <td>Desert Aire</td>\n",
              "      <td>-9.43</td>\n",
              "    </tr>\n",
              "    <tr>\n",
              "      <th>5827</th>\n",
              "      <td>USA</td>\n",
              "      <td>Gooding</td>\n",
              "      <td>-8.92</td>\n",
              "    </tr>\n",
              "    <tr>\n",
              "      <th>6754</th>\n",
              "      <td>USA</td>\n",
              "      <td>Lyman</td>\n",
              "      <td>-8.59</td>\n",
              "    </tr>\n",
              "    <tr>\n",
              "      <th>24834</th>\n",
              "      <td>USA</td>\n",
              "      <td>Shingletown</td>\n",
              "      <td>-7.94</td>\n",
              "    </tr>\n",
              "    <tr>\n",
              "      <th>5335</th>\n",
              "      <td>USA</td>\n",
              "      <td>Emmett</td>\n",
              "      <td>-7.85</td>\n",
              "    </tr>\n",
              "  </tbody>\n",
              "</table>\n",
              "</div>"
            ],
            "text/plain": [
              "      Country         Name  CityBufferDiffDay\n",
              "3888      USA  Desert Aire              -9.43\n",
              "5827      USA      Gooding              -8.92\n",
              "6754      USA        Lyman              -8.59\n",
              "24834     USA  Shingletown              -7.94\n",
              "5335      USA       Emmett              -7.85"
            ]
          },
          "metadata": {
            "tags": []
          },
          "execution_count": 33
        }
      ]
    },
    {
      "cell_type": "code",
      "metadata": {
        "id": "6R5B_GYL-pDT",
        "colab_type": "code",
        "outputId": "ca013cd8-4350-4366-8885-ea0262935a4b",
        "colab": {
          "base_uri": "https://localhost:8080/",
          "height": 202
        }
      },
      "source": [
        "averages = USA.sort_values('CityBufferDiffNight', ascending=True)\n",
        "averages = averages[['Country', 'Name', 'CityBufferDiffNight']]\n",
        "averages.head()"
      ],
      "execution_count": 0,
      "outputs": [
        {
          "output_type": "execute_result",
          "data": {
            "text/html": [
              "<div>\n",
              "<style scoped>\n",
              "    .dataframe tbody tr th:only-of-type {\n",
              "        vertical-align: middle;\n",
              "    }\n",
              "\n",
              "    .dataframe tbody tr th {\n",
              "        vertical-align: top;\n",
              "    }\n",
              "\n",
              "    .dataframe thead th {\n",
              "        text-align: right;\n",
              "    }\n",
              "</style>\n",
              "<table border=\"1\" class=\"dataframe\">\n",
              "  <thead>\n",
              "    <tr style=\"text-align: right;\">\n",
              "      <th></th>\n",
              "      <th>Country</th>\n",
              "      <th>Name</th>\n",
              "      <th>CityBufferDiffNight</th>\n",
              "    </tr>\n",
              "  </thead>\n",
              "  <tbody>\n",
              "    <tr>\n",
              "      <th>10467</th>\n",
              "      <td>USA</td>\n",
              "      <td>Thoreau</td>\n",
              "      <td>-4.88</td>\n",
              "    </tr>\n",
              "    <tr>\n",
              "      <th>8425</th>\n",
              "      <td>USA</td>\n",
              "      <td>Easton</td>\n",
              "      <td>-4.32</td>\n",
              "    </tr>\n",
              "    <tr>\n",
              "      <th>4912</th>\n",
              "      <td>USA</td>\n",
              "      <td>Pulaski</td>\n",
              "      <td>-3.57</td>\n",
              "    </tr>\n",
              "    <tr>\n",
              "      <th>25908</th>\n",
              "      <td>USA</td>\n",
              "      <td>Bear Valley Springs</td>\n",
              "      <td>-3.54</td>\n",
              "    </tr>\n",
              "    <tr>\n",
              "      <th>9062</th>\n",
              "      <td>USA</td>\n",
              "      <td>Alderson</td>\n",
              "      <td>-3.44</td>\n",
              "    </tr>\n",
              "  </tbody>\n",
              "</table>\n",
              "</div>"
            ],
            "text/plain": [
              "      Country                 Name  CityBufferDiffNight\n",
              "10467     USA              Thoreau                -4.88\n",
              "8425      USA               Easton                -4.32\n",
              "4912      USA              Pulaski                -3.57\n",
              "25908     USA  Bear Valley Springs                -3.54\n",
              "9062      USA             Alderson                -3.44"
            ]
          },
          "metadata": {
            "tags": []
          },
          "execution_count": 34
        }
      ]
    },
    {
      "cell_type": "code",
      "metadata": {
        "id": "5mv0o0GKPl5z",
        "colab_type": "code",
        "outputId": "0bd0d097-b701-49ae-c98f-48576de4be7c",
        "colab": {
          "base_uri": "https://localhost:8080/",
          "height": 222
        }
      },
      "source": [
        "# Outliers, high is greater than 2.5 degrees C city/buffer difference\n",
        "USA_high = USA_small.loc[(USA_small['CityBufferDiffNight'] >= 2.5)]\n",
        "USA_low = USA_small.loc[(USA_small['CityBufferDiffNight'] < 2.5)]\n",
        "USA_high = USA_high.sort_values('CityBufferDiffNight', ascending=False)\n",
        "USA_high.head()"
      ],
      "execution_count": 0,
      "outputs": [
        {
          "output_type": "execute_result",
          "data": {
            "text/html": [
              "<div>\n",
              "<style scoped>\n",
              "    .dataframe tbody tr th:only-of-type {\n",
              "        vertical-align: middle;\n",
              "    }\n",
              "\n",
              "    .dataframe tbody tr th {\n",
              "        vertical-align: top;\n",
              "    }\n",
              "\n",
              "    .dataframe thead th {\n",
              "        text-align: right;\n",
              "    }\n",
              "</style>\n",
              "<table border=\"1\" class=\"dataframe\">\n",
              "  <thead>\n",
              "    <tr style=\"text-align: right;\">\n",
              "      <th></th>\n",
              "      <th>Country</th>\n",
              "      <th>Name</th>\n",
              "      <th>NameFixed</th>\n",
              "      <th>Pop1990</th>\n",
              "      <th>Pop1995</th>\n",
              "      <th>Pop2000</th>\n",
              "      <th>CityArea</th>\n",
              "      <th>CityTempDay</th>\n",
              "      <th>BufferTempDay</th>\n",
              "      <th>CityBufferDiffDay</th>\n",
              "      <th>CityTempNight</th>\n",
              "      <th>BufferTempNight</th>\n",
              "      <th>CityBufferDiffNight</th>\n",
              "      <th>Latitude</th>\n",
              "      <th>Longitude</th>\n",
              "      <th>CityBufferAvg</th>\n",
              "    </tr>\n",
              "  </thead>\n",
              "  <tbody>\n",
              "    <tr>\n",
              "      <th>8623</th>\n",
              "      <td>USA</td>\n",
              "      <td>Clendenin</td>\n",
              "      <td>CLENDENIN</td>\n",
              "      <td>1203</td>\n",
              "      <td>1159.0</td>\n",
              "      <td>1116</td>\n",
              "      <td>28.90</td>\n",
              "      <td>27.60</td>\n",
              "      <td>27.37</td>\n",
              "      <td>0.23</td>\n",
              "      <td>22.06</td>\n",
              "      <td>15.41</td>\n",
              "      <td>6.65</td>\n",
              "      <td>38.487054</td>\n",
              "      <td>-81.344675</td>\n",
              "      <td>3.440</td>\n",
              "    </tr>\n",
              "    <tr>\n",
              "      <th>7296</th>\n",
              "      <td>USA</td>\n",
              "      <td>Dallas</td>\n",
              "      <td>DALLAS</td>\n",
              "      <td>1037</td>\n",
              "      <td>1046.0</td>\n",
              "      <td>1055</td>\n",
              "      <td>9.82</td>\n",
              "      <td>31.56</td>\n",
              "      <td>32.39</td>\n",
              "      <td>-0.84</td>\n",
              "      <td>18.38</td>\n",
              "      <td>13.48</td>\n",
              "      <td>4.90</td>\n",
              "      <td>40.632225</td>\n",
              "      <td>-91.161205</td>\n",
              "      <td>2.030</td>\n",
              "    </tr>\n",
              "    <tr>\n",
              "      <th>9143</th>\n",
              "      <td>USA</td>\n",
              "      <td>Mullens</td>\n",
              "      <td>MULLENS</td>\n",
              "      <td>2006</td>\n",
              "      <td>1884.0</td>\n",
              "      <td>1769</td>\n",
              "      <td>32.66</td>\n",
              "      <td>26.76</td>\n",
              "      <td>26.15</td>\n",
              "      <td>0.61</td>\n",
              "      <td>17.29</td>\n",
              "      <td>12.39</td>\n",
              "      <td>4.90</td>\n",
              "      <td>37.580884</td>\n",
              "      <td>-81.373789</td>\n",
              "      <td>2.755</td>\n",
              "    </tr>\n",
              "    <tr>\n",
              "      <th>8797</th>\n",
              "      <td>USA</td>\n",
              "      <td>Baldwin</td>\n",
              "      <td>BALDWIN</td>\n",
              "      <td>426</td>\n",
              "      <td>1243.0</td>\n",
              "      <td>3627</td>\n",
              "      <td>35.02</td>\n",
              "      <td>32.94</td>\n",
              "      <td>32.09</td>\n",
              "      <td>0.85</td>\n",
              "      <td>17.62</td>\n",
              "      <td>13.93</td>\n",
              "      <td>3.69</td>\n",
              "      <td>38.205719</td>\n",
              "      <td>-89.826331</td>\n",
              "      <td>2.270</td>\n",
              "    </tr>\n",
              "    <tr>\n",
              "      <th>10277</th>\n",
              "      <td>USA</td>\n",
              "      <td>Caraway</td>\n",
              "      <td>CARAWAY</td>\n",
              "      <td>1178</td>\n",
              "      <td>1261.0</td>\n",
              "      <td>1349</td>\n",
              "      <td>1.78</td>\n",
              "      <td>32.52</td>\n",
              "      <td>34.34</td>\n",
              "      <td>-1.82</td>\n",
              "      <td>20.42</td>\n",
              "      <td>16.85</td>\n",
              "      <td>3.57</td>\n",
              "      <td>35.766938</td>\n",
              "      <td>-90.325485</td>\n",
              "      <td>0.875</td>\n",
              "    </tr>\n",
              "  </tbody>\n",
              "</table>\n",
              "</div>"
            ],
            "text/plain": [
              "      Country       Name  NameFixed  ...   Latitude  Longitude  CityBufferAvg\n",
              "8623      USA  Clendenin  CLENDENIN  ...  38.487054 -81.344675          3.440\n",
              "7296      USA     Dallas     DALLAS  ...  40.632225 -91.161205          2.030\n",
              "9143      USA    Mullens    MULLENS  ...  37.580884 -81.373789          2.755\n",
              "8797      USA    Baldwin    BALDWIN  ...  38.205719 -89.826331          2.270\n",
              "10277     USA    Caraway    CARAWAY  ...  35.766938 -90.325485          0.875\n",
              "\n",
              "[5 rows x 16 columns]"
            ]
          },
          "metadata": {
            "tags": []
          },
          "execution_count": 35
        }
      ]
    },
    {
      "cell_type": "code",
      "metadata": {
        "id": "gsoE5pIpVB3Y",
        "colab_type": "code",
        "outputId": "0c784d7b-5919-4e48-a8c9-155e79150fb3",
        "colab": {
          "base_uri": "https://localhost:8080/",
          "height": 35
        }
      },
      "source": [
        "USA_high.shape"
      ],
      "execution_count": 0,
      "outputs": [
        {
          "output_type": "execute_result",
          "data": {
            "text/plain": [
              "(20, 16)"
            ]
          },
          "metadata": {
            "tags": []
          },
          "execution_count": 36
        }
      ]
    },
    {
      "cell_type": "code",
      "metadata": {
        "id": "fzuV2p7gWKaZ",
        "colab_type": "code",
        "outputId": "db7abe98-22b2-4ded-de77-04b2c33f5f37",
        "colab": {
          "base_uri": "https://localhost:8080/",
          "height": 208
        }
      },
      "source": [
        "df['Country'].value_counts().nlargest(10)"
      ],
      "execution_count": 0,
      "outputs": [
        {
          "output_type": "execute_result",
          "data": {
            "text/plain": [
              "CHN    6488\n",
              "USA    5041\n",
              "IND    2850\n",
              "HUN     915\n",
              "ARG     882\n",
              "BRA     651\n",
              "ROU     633\n",
              "DEU     599\n",
              "CAN     582\n",
              "COL     558\n",
              "Name: Country, dtype: int64"
            ]
          },
          "metadata": {
            "tags": []
          },
          "execution_count": 37
        }
      ]
    },
    {
      "cell_type": "code",
      "metadata": {
        "id": "T7Fm-O2cXYR6",
        "colab_type": "code",
        "outputId": "d3674197-171b-42db-cdfd-b0ff6469420c",
        "colab": {
          "base_uri": "https://localhost:8080/",
          "height": 406
        }
      },
      "source": [
        "large_cities = df.loc[(df['Pop2000'] >= 50000)]\n",
        "country_groups_day = large_cities.groupby('Country').mean().sort_values('CityBufferDiffDay', ascending=False)\n",
        "country_groups_day.head(10)"
      ],
      "execution_count": 0,
      "outputs": [
        {
          "output_type": "execute_result",
          "data": {
            "text/html": [
              "<div>\n",
              "<style scoped>\n",
              "    .dataframe tbody tr th:only-of-type {\n",
              "        vertical-align: middle;\n",
              "    }\n",
              "\n",
              "    .dataframe tbody tr th {\n",
              "        vertical-align: top;\n",
              "    }\n",
              "\n",
              "    .dataframe thead th {\n",
              "        text-align: right;\n",
              "    }\n",
              "</style>\n",
              "<table border=\"1\" class=\"dataframe\">\n",
              "  <thead>\n",
              "    <tr style=\"text-align: right;\">\n",
              "      <th></th>\n",
              "      <th>Pop1990</th>\n",
              "      <th>Pop1995</th>\n",
              "      <th>Pop2000</th>\n",
              "      <th>CityArea</th>\n",
              "      <th>CityTempDay</th>\n",
              "      <th>BufferTempDay</th>\n",
              "      <th>CityBufferDiffDay</th>\n",
              "      <th>CityTempNight</th>\n",
              "      <th>BufferTempNight</th>\n",
              "      <th>CityBufferDiffNight</th>\n",
              "      <th>Latitude</th>\n",
              "      <th>Longitude</th>\n",
              "      <th>CityBufferAvg</th>\n",
              "    </tr>\n",
              "    <tr>\n",
              "      <th>Country</th>\n",
              "      <th></th>\n",
              "      <th></th>\n",
              "      <th></th>\n",
              "      <th></th>\n",
              "      <th></th>\n",
              "      <th></th>\n",
              "      <th></th>\n",
              "      <th></th>\n",
              "      <th></th>\n",
              "      <th></th>\n",
              "      <th></th>\n",
              "      <th></th>\n",
              "      <th></th>\n",
              "    </tr>\n",
              "  </thead>\n",
              "  <tbody>\n",
              "    <tr>\n",
              "      <th>MLT</th>\n",
              "      <td>328232.0</td>\n",
              "      <td>346434.0</td>\n",
              "      <td>368591.0</td>\n",
              "      <td>241.180</td>\n",
              "      <td>43.280</td>\n",
              "      <td>35.430</td>\n",
              "      <td>7.850</td>\n",
              "      <td>20.980</td>\n",
              "      <td>21.910</td>\n",
              "      <td>-0.930</td>\n",
              "      <td>35.887647</td>\n",
              "      <td>14.442328</td>\n",
              "      <td>3.460</td>\n",
              "    </tr>\n",
              "    <tr>\n",
              "      <th>ANT</th>\n",
              "      <td>43550.0</td>\n",
              "      <td>51788.0</td>\n",
              "      <td>61584.0</td>\n",
              "      <td>361.220</td>\n",
              "      <td>37.920</td>\n",
              "      <td>32.290</td>\n",
              "      <td>5.640</td>\n",
              "      <td>23.520</td>\n",
              "      <td>23.400</td>\n",
              "      <td>0.120</td>\n",
              "      <td>12.177029</td>\n",
              "      <td>-68.961230</td>\n",
              "      <td>2.880</td>\n",
              "    </tr>\n",
              "    <tr>\n",
              "      <th>TWN</th>\n",
              "      <td>2939424.8</td>\n",
              "      <td>3058671.6</td>\n",
              "      <td>3194591.6</td>\n",
              "      <td>2470.194</td>\n",
              "      <td>34.818</td>\n",
              "      <td>29.894</td>\n",
              "      <td>4.924</td>\n",
              "      <td>22.442</td>\n",
              "      <td>20.598</td>\n",
              "      <td>1.842</td>\n",
              "      <td>23.774845</td>\n",
              "      <td>120.939175</td>\n",
              "      <td>3.383</td>\n",
              "    </tr>\n",
              "    <tr>\n",
              "      <th>JEY</th>\n",
              "      <td>82826.0</td>\n",
              "      <td>84749.0</td>\n",
              "      <td>86767.0</td>\n",
              "      <td>112.990</td>\n",
              "      <td>30.050</td>\n",
              "      <td>25.310</td>\n",
              "      <td>4.750</td>\n",
              "      <td>12.760</td>\n",
              "      <td>13.630</td>\n",
              "      <td>-0.870</td>\n",
              "      <td>49.217799</td>\n",
              "      <td>-2.131890</td>\n",
              "      <td>1.940</td>\n",
              "    </tr>\n",
              "    <tr>\n",
              "      <th>BHR</th>\n",
              "      <td>298750.0</td>\n",
              "      <td>334531.0</td>\n",
              "      <td>375025.0</td>\n",
              "      <td>585.580</td>\n",
              "      <td>49.470</td>\n",
              "      <td>45.120</td>\n",
              "      <td>4.350</td>\n",
              "      <td>26.210</td>\n",
              "      <td>26.930</td>\n",
              "      <td>-0.720</td>\n",
              "      <td>26.074271</td>\n",
              "      <td>50.551289</td>\n",
              "      <td>1.815</td>\n",
              "    </tr>\n",
              "    <tr>\n",
              "      <th>REU</th>\n",
              "      <td>572520.0</td>\n",
              "      <td>628841.0</td>\n",
              "      <td>691647.0</td>\n",
              "      <td>1036.430</td>\n",
              "      <td>32.480</td>\n",
              "      <td>28.450</td>\n",
              "      <td>4.030</td>\n",
              "      <td>19.210</td>\n",
              "      <td>16.000</td>\n",
              "      <td>3.200</td>\n",
              "      <td>-21.078808</td>\n",
              "      <td>55.470383</td>\n",
              "      <td>3.615</td>\n",
              "    </tr>\n",
              "    <tr>\n",
              "      <th>WSM</th>\n",
              "      <td>48921.0</td>\n",
              "      <td>52041.0</td>\n",
              "      <td>55640.0</td>\n",
              "      <td>84.750</td>\n",
              "      <td>30.070</td>\n",
              "      <td>26.060</td>\n",
              "      <td>4.010</td>\n",
              "      <td>21.970</td>\n",
              "      <td>20.480</td>\n",
              "      <td>1.490</td>\n",
              "      <td>-13.852206</td>\n",
              "      <td>-171.769312</td>\n",
              "      <td>2.750</td>\n",
              "    </tr>\n",
              "    <tr>\n",
              "      <th>GNQ</th>\n",
              "      <td>47021.0</td>\n",
              "      <td>59253.0</td>\n",
              "      <td>66755.0</td>\n",
              "      <td>36.950</td>\n",
              "      <td>31.300</td>\n",
              "      <td>27.440</td>\n",
              "      <td>3.860</td>\n",
              "      <td>20.370</td>\n",
              "      <td>20.140</td>\n",
              "      <td>0.230</td>\n",
              "      <td>2.795320</td>\n",
              "      <td>9.283987</td>\n",
              "      <td>2.045</td>\n",
              "    </tr>\n",
              "    <tr>\n",
              "      <th>PYF</th>\n",
              "      <td>90723.0</td>\n",
              "      <td>98759.0</td>\n",
              "      <td>107915.0</td>\n",
              "      <td>216.600</td>\n",
              "      <td>31.540</td>\n",
              "      <td>27.780</td>\n",
              "      <td>3.750</td>\n",
              "      <td>21.190</td>\n",
              "      <td>20.130</td>\n",
              "      <td>1.060</td>\n",
              "      <td>-17.590879</td>\n",
              "      <td>-149.545646</td>\n",
              "      <td>2.405</td>\n",
              "    </tr>\n",
              "    <tr>\n",
              "      <th>BHS</th>\n",
              "      <td>172196.0</td>\n",
              "      <td>190537.0</td>\n",
              "      <td>210832.0</td>\n",
              "      <td>217.030</td>\n",
              "      <td>32.890</td>\n",
              "      <td>29.280</td>\n",
              "      <td>3.620</td>\n",
              "      <td>23.570</td>\n",
              "      <td>24.410</td>\n",
              "      <td>-0.840</td>\n",
              "      <td>25.029619</td>\n",
              "      <td>-77.400195</td>\n",
              "      <td>1.390</td>\n",
              "    </tr>\n",
              "  </tbody>\n",
              "</table>\n",
              "</div>"
            ],
            "text/plain": [
              "           Pop1990    Pop1995    Pop2000  ...   Latitude   Longitude  CityBufferAvg\n",
              "Country                                   ...                                      \n",
              "MLT       328232.0   346434.0   368591.0  ...  35.887647   14.442328          3.460\n",
              "ANT        43550.0    51788.0    61584.0  ...  12.177029  -68.961230          2.880\n",
              "TWN      2939424.8  3058671.6  3194591.6  ...  23.774845  120.939175          3.383\n",
              "JEY        82826.0    84749.0    86767.0  ...  49.217799   -2.131890          1.940\n",
              "BHR       298750.0   334531.0   375025.0  ...  26.074271   50.551289          1.815\n",
              "REU       572520.0   628841.0   691647.0  ... -21.078808   55.470383          3.615\n",
              "WSM        48921.0    52041.0    55640.0  ... -13.852206 -171.769312          2.750\n",
              "GNQ        47021.0    59253.0    66755.0  ...   2.795320    9.283987          2.045\n",
              "PYF        90723.0    98759.0   107915.0  ... -17.590879 -149.545646          2.405\n",
              "BHS       172196.0   190537.0   210832.0  ...  25.029619  -77.400195          1.390\n",
              "\n",
              "[10 rows x 13 columns]"
            ]
          },
          "metadata": {
            "tags": []
          },
          "execution_count": 38
        }
      ]
    },
    {
      "cell_type": "code",
      "metadata": {
        "id": "F4_rcbdJ-1WL",
        "colab_type": "code",
        "outputId": "64c1093b-3c23-49d6-82f8-fa42affb3698",
        "colab": {
          "base_uri": "https://localhost:8080/",
          "height": 406
        }
      },
      "source": [
        "country_groups_night = large_cities.groupby('Country').mean().sort_values('CityBufferDiffNight', ascending=False)\n",
        "country_groups_night.head(10)"
      ],
      "execution_count": 0,
      "outputs": [
        {
          "output_type": "execute_result",
          "data": {
            "text/html": [
              "<div>\n",
              "<style scoped>\n",
              "    .dataframe tbody tr th:only-of-type {\n",
              "        vertical-align: middle;\n",
              "    }\n",
              "\n",
              "    .dataframe tbody tr th {\n",
              "        vertical-align: top;\n",
              "    }\n",
              "\n",
              "    .dataframe thead th {\n",
              "        text-align: right;\n",
              "    }\n",
              "</style>\n",
              "<table border=\"1\" class=\"dataframe\">\n",
              "  <thead>\n",
              "    <tr style=\"text-align: right;\">\n",
              "      <th></th>\n",
              "      <th>Pop1990</th>\n",
              "      <th>Pop1995</th>\n",
              "      <th>Pop2000</th>\n",
              "      <th>CityArea</th>\n",
              "      <th>CityTempDay</th>\n",
              "      <th>BufferTempDay</th>\n",
              "      <th>CityBufferDiffDay</th>\n",
              "      <th>CityTempNight</th>\n",
              "      <th>BufferTempNight</th>\n",
              "      <th>CityBufferDiffNight</th>\n",
              "      <th>Latitude</th>\n",
              "      <th>Longitude</th>\n",
              "      <th>CityBufferAvg</th>\n",
              "    </tr>\n",
              "    <tr>\n",
              "      <th>Country</th>\n",
              "      <th></th>\n",
              "      <th></th>\n",
              "      <th></th>\n",
              "      <th></th>\n",
              "      <th></th>\n",
              "      <th></th>\n",
              "      <th></th>\n",
              "      <th></th>\n",
              "      <th></th>\n",
              "      <th></th>\n",
              "      <th></th>\n",
              "      <th></th>\n",
              "      <th></th>\n",
              "    </tr>\n",
              "  </thead>\n",
              "  <tbody>\n",
              "    <tr>\n",
              "      <th>ZMB</th>\n",
              "      <td>1.929303e+05</td>\n",
              "      <td>2.072786e+05</td>\n",
              "      <td>2.176285e+05</td>\n",
              "      <td>258.411818</td>\n",
              "      <td>33.804545</td>\n",
              "      <td>31.674545</td>\n",
              "      <td>2.131818</td>\n",
              "      <td>6495.014606</td>\n",
              "      <td>18.080909</td>\n",
              "      <td>6478.515515</td>\n",
              "      <td>-13.449657</td>\n",
              "      <td>28.695699</td>\n",
              "      <td>3240.323667</td>\n",
              "    </tr>\n",
              "    <tr>\n",
              "      <th>IDN</th>\n",
              "      <td>2.660116e+05</td>\n",
              "      <td>3.335046e+05</td>\n",
              "      <td>4.212340e+05</td>\n",
              "      <td>187.415210</td>\n",
              "      <td>30.905629</td>\n",
              "      <td>29.701856</td>\n",
              "      <td>1.203054</td>\n",
              "      <td>5140.465497</td>\n",
              "      <td>447.759525</td>\n",
              "      <td>5120.694000</td>\n",
              "      <td>-4.495014</td>\n",
              "      <td>110.913506</td>\n",
              "      <td>2560.948527</td>\n",
              "    </tr>\n",
              "    <tr>\n",
              "      <th>AGO</th>\n",
              "      <td>2.214594e+05</td>\n",
              "      <td>3.069384e+05</td>\n",
              "      <td>3.917534e+05</td>\n",
              "      <td>90.263125</td>\n",
              "      <td>39.339375</td>\n",
              "      <td>38.801250</td>\n",
              "      <td>0.537500</td>\n",
              "      <td>4469.190667</td>\n",
              "      <td>16.230000</td>\n",
              "      <td>4454.188167</td>\n",
              "      <td>-11.342624</td>\n",
              "      <td>14.575773</td>\n",
              "      <td>2227.362833</td>\n",
              "    </tr>\n",
              "    <tr>\n",
              "      <th>SDN</th>\n",
              "      <td>1.785885e+05</td>\n",
              "      <td>2.365279e+05</td>\n",
              "      <td>3.056055e+05</td>\n",
              "      <td>130.412857</td>\n",
              "      <td>45.509048</td>\n",
              "      <td>45.280714</td>\n",
              "      <td>0.227381</td>\n",
              "      <td>1717.050968</td>\n",
              "      <td>20.304048</td>\n",
              "      <td>1697.167873</td>\n",
              "      <td>12.275280</td>\n",
              "      <td>31.221453</td>\n",
              "      <td>848.697627</td>\n",
              "    </tr>\n",
              "    <tr>\n",
              "      <th>NGA</th>\n",
              "      <td>2.141265e+05</td>\n",
              "      <td>2.771823e+05</td>\n",
              "      <td>3.487441e+05</td>\n",
              "      <td>124.176855</td>\n",
              "      <td>31.108226</td>\n",
              "      <td>30.010000</td>\n",
              "      <td>1.097823</td>\n",
              "      <td>594.866457</td>\n",
              "      <td>20.092823</td>\n",
              "      <td>574.949844</td>\n",
              "      <td>7.989868</td>\n",
              "      <td>6.900666</td>\n",
              "      <td>288.023833</td>\n",
              "    </tr>\n",
              "    <tr>\n",
              "      <th>TLS</th>\n",
              "      <td>5.689200e+04</td>\n",
              "      <td>7.080400e+04</td>\n",
              "      <td>6.530000e+04</td>\n",
              "      <td>128.850000</td>\n",
              "      <td>29.640000</td>\n",
              "      <td>28.260000</td>\n",
              "      <td>1.380000</td>\n",
              "      <td>24.280000</td>\n",
              "      <td>20.990000</td>\n",
              "      <td>3.290000</td>\n",
              "      <td>-8.592352</td>\n",
              "      <td>125.572121</td>\n",
              "      <td>2.335000</td>\n",
              "    </tr>\n",
              "    <tr>\n",
              "      <th>REU</th>\n",
              "      <td>5.725200e+05</td>\n",
              "      <td>6.288410e+05</td>\n",
              "      <td>6.916470e+05</td>\n",
              "      <td>1036.430000</td>\n",
              "      <td>32.480000</td>\n",
              "      <td>28.450000</td>\n",
              "      <td>4.030000</td>\n",
              "      <td>19.210000</td>\n",
              "      <td>16.000000</td>\n",
              "      <td>3.200000</td>\n",
              "      <td>-21.078808</td>\n",
              "      <td>55.470383</td>\n",
              "      <td>3.615000</td>\n",
              "    </tr>\n",
              "    <tr>\n",
              "      <th>COM</th>\n",
              "      <td>4.518900e+04</td>\n",
              "      <td>5.463850e+04</td>\n",
              "      <td>6.607400e+04</td>\n",
              "      <td>43.400000</td>\n",
              "      <td>31.795000</td>\n",
              "      <td>31.310000</td>\n",
              "      <td>0.485000</td>\n",
              "      <td>22.175000</td>\n",
              "      <td>19.505000</td>\n",
              "      <td>2.675000</td>\n",
              "      <td>-11.929949</td>\n",
              "      <td>43.842793</td>\n",
              "      <td>1.580000</td>\n",
              "    </tr>\n",
              "    <tr>\n",
              "      <th>TWN</th>\n",
              "      <td>2.939425e+06</td>\n",
              "      <td>3.058672e+06</td>\n",
              "      <td>3.194592e+06</td>\n",
              "      <td>2470.194000</td>\n",
              "      <td>34.818000</td>\n",
              "      <td>29.894000</td>\n",
              "      <td>4.924000</td>\n",
              "      <td>22.442000</td>\n",
              "      <td>20.598000</td>\n",
              "      <td>1.842000</td>\n",
              "      <td>23.774845</td>\n",
              "      <td>120.939175</td>\n",
              "      <td>3.383000</td>\n",
              "    </tr>\n",
              "    <tr>\n",
              "      <th>SLB</th>\n",
              "      <td>3.524400e+04</td>\n",
              "      <td>4.237600e+04</td>\n",
              "      <td>5.095100e+04</td>\n",
              "      <td>76.270000</td>\n",
              "      <td>32.450000</td>\n",
              "      <td>29.660000</td>\n",
              "      <td>2.790000</td>\n",
              "      <td>22.810000</td>\n",
              "      <td>20.980000</td>\n",
              "      <td>1.830000</td>\n",
              "      <td>-9.441475</td>\n",
              "      <td>159.989118</td>\n",
              "      <td>2.310000</td>\n",
              "    </tr>\n",
              "  </tbody>\n",
              "</table>\n",
              "</div>"
            ],
            "text/plain": [
              "              Pop1990       Pop1995  ...   Longitude  CityBufferAvg\n",
              "Country                              ...                           \n",
              "ZMB      1.929303e+05  2.072786e+05  ...   28.695699    3240.323667\n",
              "IDN      2.660116e+05  3.335046e+05  ...  110.913506    2560.948527\n",
              "AGO      2.214594e+05  3.069384e+05  ...   14.575773    2227.362833\n",
              "SDN      1.785885e+05  2.365279e+05  ...   31.221453     848.697627\n",
              "NGA      2.141265e+05  2.771823e+05  ...    6.900666     288.023833\n",
              "TLS      5.689200e+04  7.080400e+04  ...  125.572121       2.335000\n",
              "REU      5.725200e+05  6.288410e+05  ...   55.470383       3.615000\n",
              "COM      4.518900e+04  5.463850e+04  ...   43.842793       1.580000\n",
              "TWN      2.939425e+06  3.058672e+06  ...  120.939175       3.383000\n",
              "SLB      3.524400e+04  4.237600e+04  ...  159.989118       2.310000\n",
              "\n",
              "[10 rows x 13 columns]"
            ]
          },
          "metadata": {
            "tags": []
          },
          "execution_count": 39
        }
      ]
    },
    {
      "cell_type": "markdown",
      "metadata": {
        "id": "1v9dunkD6War",
        "colab_type": "text"
      },
      "source": [
        "# Predicting a city's city-buffer average difference based on population, city size, city location, and city temperatures during the day and night"
      ]
    },
    {
      "cell_type": "markdown",
      "metadata": {
        "id": "QEzi3Qp5ofsc",
        "colab_type": "text"
      },
      "source": [
        "Day first"
      ]
    },
    {
      "cell_type": "code",
      "metadata": {
        "id": "fb5nlP1MlGuV",
        "colab_type": "code",
        "outputId": "5ced8b26-cb83-426b-d87d-0d909f97d70c",
        "colab": {
          "base_uri": "https://localhost:8080/",
          "height": 251
        }
      },
      "source": [
        "df_day = pd.get_dummies(df_day, columns=['Country'])\n",
        "df_day.head()"
      ],
      "execution_count": 0,
      "outputs": [
        {
          "output_type": "execute_result",
          "data": {
            "text/html": [
              "<div>\n",
              "<style scoped>\n",
              "    .dataframe tbody tr th:only-of-type {\n",
              "        vertical-align: middle;\n",
              "    }\n",
              "\n",
              "    .dataframe tbody tr th {\n",
              "        vertical-align: top;\n",
              "    }\n",
              "\n",
              "    .dataframe thead th {\n",
              "        text-align: right;\n",
              "    }\n",
              "</style>\n",
              "<table border=\"1\" class=\"dataframe\">\n",
              "  <thead>\n",
              "    <tr style=\"text-align: right;\">\n",
              "      <th></th>\n",
              "      <th>Pop1990</th>\n",
              "      <th>Pop1995</th>\n",
              "      <th>Pop2000</th>\n",
              "      <th>CityArea</th>\n",
              "      <th>CityTempDay</th>\n",
              "      <th>CityBufferDiffDay</th>\n",
              "      <th>CityTempNight</th>\n",
              "      <th>Latitude</th>\n",
              "      <th>Longitude</th>\n",
              "      <th>Country_ABW</th>\n",
              "      <th>Country_AFG</th>\n",
              "      <th>Country_AGO</th>\n",
              "      <th>Country_AIA</th>\n",
              "      <th>Country_ALB</th>\n",
              "      <th>Country_AND</th>\n",
              "      <th>Country_ANT</th>\n",
              "      <th>Country_ARE</th>\n",
              "      <th>Country_ARG</th>\n",
              "      <th>Country_ARM</th>\n",
              "      <th>Country_ASM</th>\n",
              "      <th>Country_ATG</th>\n",
              "      <th>Country_AUS</th>\n",
              "      <th>Country_AUT</th>\n",
              "      <th>Country_AZE</th>\n",
              "      <th>Country_BDI</th>\n",
              "      <th>Country_BEL</th>\n",
              "      <th>Country_BEN</th>\n",
              "      <th>Country_BFA</th>\n",
              "      <th>Country_BGD</th>\n",
              "      <th>Country_BGR</th>\n",
              "      <th>Country_BHR</th>\n",
              "      <th>Country_BHS</th>\n",
              "      <th>Country_BIH</th>\n",
              "      <th>Country_BLR</th>\n",
              "      <th>Country_BLZ</th>\n",
              "      <th>Country_BMU</th>\n",
              "      <th>Country_BOL</th>\n",
              "      <th>Country_BRA</th>\n",
              "      <th>Country_BRB</th>\n",
              "      <th>Country_BRN</th>\n",
              "      <th>...</th>\n",
              "      <th>Country_SPM</th>\n",
              "      <th>Country_STP</th>\n",
              "      <th>Country_SUR</th>\n",
              "      <th>Country_SVK</th>\n",
              "      <th>Country_SVN</th>\n",
              "      <th>Country_SWE</th>\n",
              "      <th>Country_SWZ</th>\n",
              "      <th>Country_SYC</th>\n",
              "      <th>Country_SYR</th>\n",
              "      <th>Country_TCA</th>\n",
              "      <th>Country_TCD</th>\n",
              "      <th>Country_TGO</th>\n",
              "      <th>Country_THA</th>\n",
              "      <th>Country_TJK</th>\n",
              "      <th>Country_TKM</th>\n",
              "      <th>Country_TLS</th>\n",
              "      <th>Country_TON</th>\n",
              "      <th>Country_TTO</th>\n",
              "      <th>Country_TUN</th>\n",
              "      <th>Country_TUR</th>\n",
              "      <th>Country_TWN</th>\n",
              "      <th>Country_TZA</th>\n",
              "      <th>Country_UGA</th>\n",
              "      <th>Country_UKR</th>\n",
              "      <th>Country_URY</th>\n",
              "      <th>Country_USA</th>\n",
              "      <th>Country_UZB</th>\n",
              "      <th>Country_VAT</th>\n",
              "      <th>Country_VCT</th>\n",
              "      <th>Country_VEN</th>\n",
              "      <th>Country_VGB</th>\n",
              "      <th>Country_VIR</th>\n",
              "      <th>Country_VNM</th>\n",
              "      <th>Country_VUT</th>\n",
              "      <th>Country_WLF</th>\n",
              "      <th>Country_WSM</th>\n",
              "      <th>Country_YEM</th>\n",
              "      <th>Country_ZAF</th>\n",
              "      <th>Country_ZMB</th>\n",
              "      <th>Country_ZWE</th>\n",
              "    </tr>\n",
              "  </thead>\n",
              "  <tbody>\n",
              "    <tr>\n",
              "      <th>0</th>\n",
              "      <td>918</td>\n",
              "      <td>1015.0</td>\n",
              "      <td>1123</td>\n",
              "      <td>4.93</td>\n",
              "      <td>7.05</td>\n",
              "      <td>-0.90</td>\n",
              "      <td>-3.16</td>\n",
              "      <td>72.788598</td>\n",
              "      <td>-56.140056</td>\n",
              "      <td>0</td>\n",
              "      <td>0</td>\n",
              "      <td>0</td>\n",
              "      <td>0</td>\n",
              "      <td>0</td>\n",
              "      <td>0</td>\n",
              "      <td>0</td>\n",
              "      <td>0</td>\n",
              "      <td>0</td>\n",
              "      <td>0</td>\n",
              "      <td>0</td>\n",
              "      <td>0</td>\n",
              "      <td>0</td>\n",
              "      <td>0</td>\n",
              "      <td>0</td>\n",
              "      <td>0</td>\n",
              "      <td>0</td>\n",
              "      <td>0</td>\n",
              "      <td>0</td>\n",
              "      <td>0</td>\n",
              "      <td>0</td>\n",
              "      <td>0</td>\n",
              "      <td>0</td>\n",
              "      <td>0</td>\n",
              "      <td>0</td>\n",
              "      <td>0</td>\n",
              "      <td>0</td>\n",
              "      <td>0</td>\n",
              "      <td>0</td>\n",
              "      <td>0</td>\n",
              "      <td>0</td>\n",
              "      <td>...</td>\n",
              "      <td>0</td>\n",
              "      <td>0</td>\n",
              "      <td>0</td>\n",
              "      <td>0</td>\n",
              "      <td>0</td>\n",
              "      <td>0</td>\n",
              "      <td>0</td>\n",
              "      <td>0</td>\n",
              "      <td>0</td>\n",
              "      <td>0</td>\n",
              "      <td>0</td>\n",
              "      <td>0</td>\n",
              "      <td>0</td>\n",
              "      <td>0</td>\n",
              "      <td>0</td>\n",
              "      <td>0</td>\n",
              "      <td>0</td>\n",
              "      <td>0</td>\n",
              "      <td>0</td>\n",
              "      <td>0</td>\n",
              "      <td>0</td>\n",
              "      <td>0</td>\n",
              "      <td>0</td>\n",
              "      <td>0</td>\n",
              "      <td>0</td>\n",
              "      <td>0</td>\n",
              "      <td>0</td>\n",
              "      <td>0</td>\n",
              "      <td>0</td>\n",
              "      <td>0</td>\n",
              "      <td>0</td>\n",
              "      <td>0</td>\n",
              "      <td>0</td>\n",
              "      <td>0</td>\n",
              "      <td>0</td>\n",
              "      <td>0</td>\n",
              "      <td>0</td>\n",
              "      <td>0</td>\n",
              "      <td>0</td>\n",
              "      <td>0</td>\n",
              "    </tr>\n",
              "    <tr>\n",
              "      <th>1</th>\n",
              "      <td>3469</td>\n",
              "      <td>3986.0</td>\n",
              "      <td>4581</td>\n",
              "      <td>152.21</td>\n",
              "      <td>10.65</td>\n",
              "      <td>-1.76</td>\n",
              "      <td>-0.45</td>\n",
              "      <td>71.303963</td>\n",
              "      <td>-156.730206</td>\n",
              "      <td>0</td>\n",
              "      <td>0</td>\n",
              "      <td>0</td>\n",
              "      <td>0</td>\n",
              "      <td>0</td>\n",
              "      <td>0</td>\n",
              "      <td>0</td>\n",
              "      <td>0</td>\n",
              "      <td>0</td>\n",
              "      <td>0</td>\n",
              "      <td>0</td>\n",
              "      <td>0</td>\n",
              "      <td>0</td>\n",
              "      <td>0</td>\n",
              "      <td>0</td>\n",
              "      <td>0</td>\n",
              "      <td>0</td>\n",
              "      <td>0</td>\n",
              "      <td>0</td>\n",
              "      <td>0</td>\n",
              "      <td>0</td>\n",
              "      <td>0</td>\n",
              "      <td>0</td>\n",
              "      <td>0</td>\n",
              "      <td>0</td>\n",
              "      <td>0</td>\n",
              "      <td>0</td>\n",
              "      <td>0</td>\n",
              "      <td>0</td>\n",
              "      <td>0</td>\n",
              "      <td>0</td>\n",
              "      <td>...</td>\n",
              "      <td>0</td>\n",
              "      <td>0</td>\n",
              "      <td>0</td>\n",
              "      <td>0</td>\n",
              "      <td>0</td>\n",
              "      <td>0</td>\n",
              "      <td>0</td>\n",
              "      <td>0</td>\n",
              "      <td>0</td>\n",
              "      <td>0</td>\n",
              "      <td>0</td>\n",
              "      <td>0</td>\n",
              "      <td>0</td>\n",
              "      <td>0</td>\n",
              "      <td>0</td>\n",
              "      <td>0</td>\n",
              "      <td>0</td>\n",
              "      <td>0</td>\n",
              "      <td>0</td>\n",
              "      <td>0</td>\n",
              "      <td>0</td>\n",
              "      <td>0</td>\n",
              "      <td>0</td>\n",
              "      <td>0</td>\n",
              "      <td>0</td>\n",
              "      <td>1</td>\n",
              "      <td>0</td>\n",
              "      <td>0</td>\n",
              "      <td>0</td>\n",
              "      <td>0</td>\n",
              "      <td>0</td>\n",
              "      <td>0</td>\n",
              "      <td>0</td>\n",
              "      <td>0</td>\n",
              "      <td>0</td>\n",
              "      <td>0</td>\n",
              "      <td>0</td>\n",
              "      <td>0</td>\n",
              "      <td>0</td>\n",
              "      <td>0</td>\n",
              "    </tr>\n",
              "    <tr>\n",
              "      <th>2</th>\n",
              "      <td>2237</td>\n",
              "      <td>2356.0</td>\n",
              "      <td>2510</td>\n",
              "      <td>47.58</td>\n",
              "      <td>16.66</td>\n",
              "      <td>2.13</td>\n",
              "      <td>5.43</td>\n",
              "      <td>71.004989</td>\n",
              "      <td>25.962568</td>\n",
              "      <td>0</td>\n",
              "      <td>0</td>\n",
              "      <td>0</td>\n",
              "      <td>0</td>\n",
              "      <td>0</td>\n",
              "      <td>0</td>\n",
              "      <td>0</td>\n",
              "      <td>0</td>\n",
              "      <td>0</td>\n",
              "      <td>0</td>\n",
              "      <td>0</td>\n",
              "      <td>0</td>\n",
              "      <td>0</td>\n",
              "      <td>0</td>\n",
              "      <td>0</td>\n",
              "      <td>0</td>\n",
              "      <td>0</td>\n",
              "      <td>0</td>\n",
              "      <td>0</td>\n",
              "      <td>0</td>\n",
              "      <td>0</td>\n",
              "      <td>0</td>\n",
              "      <td>0</td>\n",
              "      <td>0</td>\n",
              "      <td>0</td>\n",
              "      <td>0</td>\n",
              "      <td>0</td>\n",
              "      <td>0</td>\n",
              "      <td>0</td>\n",
              "      <td>0</td>\n",
              "      <td>0</td>\n",
              "      <td>...</td>\n",
              "      <td>0</td>\n",
              "      <td>0</td>\n",
              "      <td>0</td>\n",
              "      <td>0</td>\n",
              "      <td>0</td>\n",
              "      <td>0</td>\n",
              "      <td>0</td>\n",
              "      <td>0</td>\n",
              "      <td>0</td>\n",
              "      <td>0</td>\n",
              "      <td>0</td>\n",
              "      <td>0</td>\n",
              "      <td>0</td>\n",
              "      <td>0</td>\n",
              "      <td>0</td>\n",
              "      <td>0</td>\n",
              "      <td>0</td>\n",
              "      <td>0</td>\n",
              "      <td>0</td>\n",
              "      <td>0</td>\n",
              "      <td>0</td>\n",
              "      <td>0</td>\n",
              "      <td>0</td>\n",
              "      <td>0</td>\n",
              "      <td>0</td>\n",
              "      <td>0</td>\n",
              "      <td>0</td>\n",
              "      <td>0</td>\n",
              "      <td>0</td>\n",
              "      <td>0</td>\n",
              "      <td>0</td>\n",
              "      <td>0</td>\n",
              "      <td>0</td>\n",
              "      <td>0</td>\n",
              "      <td>0</td>\n",
              "      <td>0</td>\n",
              "      <td>0</td>\n",
              "      <td>0</td>\n",
              "      <td>0</td>\n",
              "      <td>0</td>\n",
              "    </tr>\n",
              "    <tr>\n",
              "      <th>3</th>\n",
              "      <td>1285</td>\n",
              "      <td>1235.0</td>\n",
              "      <td>1163</td>\n",
              "      <td>19.44</td>\n",
              "      <td>14.61</td>\n",
              "      <td>-0.26</td>\n",
              "      <td>5.61</td>\n",
              "      <td>70.983068</td>\n",
              "      <td>24.652803</td>\n",
              "      <td>0</td>\n",
              "      <td>0</td>\n",
              "      <td>0</td>\n",
              "      <td>0</td>\n",
              "      <td>0</td>\n",
              "      <td>0</td>\n",
              "      <td>0</td>\n",
              "      <td>0</td>\n",
              "      <td>0</td>\n",
              "      <td>0</td>\n",
              "      <td>0</td>\n",
              "      <td>0</td>\n",
              "      <td>0</td>\n",
              "      <td>0</td>\n",
              "      <td>0</td>\n",
              "      <td>0</td>\n",
              "      <td>0</td>\n",
              "      <td>0</td>\n",
              "      <td>0</td>\n",
              "      <td>0</td>\n",
              "      <td>0</td>\n",
              "      <td>0</td>\n",
              "      <td>0</td>\n",
              "      <td>0</td>\n",
              "      <td>0</td>\n",
              "      <td>0</td>\n",
              "      <td>0</td>\n",
              "      <td>0</td>\n",
              "      <td>0</td>\n",
              "      <td>0</td>\n",
              "      <td>0</td>\n",
              "      <td>...</td>\n",
              "      <td>0</td>\n",
              "      <td>0</td>\n",
              "      <td>0</td>\n",
              "      <td>0</td>\n",
              "      <td>0</td>\n",
              "      <td>0</td>\n",
              "      <td>0</td>\n",
              "      <td>0</td>\n",
              "      <td>0</td>\n",
              "      <td>0</td>\n",
              "      <td>0</td>\n",
              "      <td>0</td>\n",
              "      <td>0</td>\n",
              "      <td>0</td>\n",
              "      <td>0</td>\n",
              "      <td>0</td>\n",
              "      <td>0</td>\n",
              "      <td>0</td>\n",
              "      <td>0</td>\n",
              "      <td>0</td>\n",
              "      <td>0</td>\n",
              "      <td>0</td>\n",
              "      <td>0</td>\n",
              "      <td>0</td>\n",
              "      <td>0</td>\n",
              "      <td>0</td>\n",
              "      <td>0</td>\n",
              "      <td>0</td>\n",
              "      <td>0</td>\n",
              "      <td>0</td>\n",
              "      <td>0</td>\n",
              "      <td>0</td>\n",
              "      <td>0</td>\n",
              "      <td>0</td>\n",
              "      <td>0</td>\n",
              "      <td>0</td>\n",
              "      <td>0</td>\n",
              "      <td>0</td>\n",
              "      <td>0</td>\n",
              "      <td>0</td>\n",
              "    </tr>\n",
              "    <tr>\n",
              "      <th>4</th>\n",
              "      <td>1159</td>\n",
              "      <td>1115.0</td>\n",
              "      <td>1049</td>\n",
              "      <td>35.16</td>\n",
              "      <td>20.33</td>\n",
              "      <td>2.09</td>\n",
              "      <td>4.57</td>\n",
              "      <td>70.943870</td>\n",
              "      <td>27.356392</td>\n",
              "      <td>0</td>\n",
              "      <td>0</td>\n",
              "      <td>0</td>\n",
              "      <td>0</td>\n",
              "      <td>0</td>\n",
              "      <td>0</td>\n",
              "      <td>0</td>\n",
              "      <td>0</td>\n",
              "      <td>0</td>\n",
              "      <td>0</td>\n",
              "      <td>0</td>\n",
              "      <td>0</td>\n",
              "      <td>0</td>\n",
              "      <td>0</td>\n",
              "      <td>0</td>\n",
              "      <td>0</td>\n",
              "      <td>0</td>\n",
              "      <td>0</td>\n",
              "      <td>0</td>\n",
              "      <td>0</td>\n",
              "      <td>0</td>\n",
              "      <td>0</td>\n",
              "      <td>0</td>\n",
              "      <td>0</td>\n",
              "      <td>0</td>\n",
              "      <td>0</td>\n",
              "      <td>0</td>\n",
              "      <td>0</td>\n",
              "      <td>0</td>\n",
              "      <td>0</td>\n",
              "      <td>0</td>\n",
              "      <td>...</td>\n",
              "      <td>0</td>\n",
              "      <td>0</td>\n",
              "      <td>0</td>\n",
              "      <td>0</td>\n",
              "      <td>0</td>\n",
              "      <td>0</td>\n",
              "      <td>0</td>\n",
              "      <td>0</td>\n",
              "      <td>0</td>\n",
              "      <td>0</td>\n",
              "      <td>0</td>\n",
              "      <td>0</td>\n",
              "      <td>0</td>\n",
              "      <td>0</td>\n",
              "      <td>0</td>\n",
              "      <td>0</td>\n",
              "      <td>0</td>\n",
              "      <td>0</td>\n",
              "      <td>0</td>\n",
              "      <td>0</td>\n",
              "      <td>0</td>\n",
              "      <td>0</td>\n",
              "      <td>0</td>\n",
              "      <td>0</td>\n",
              "      <td>0</td>\n",
              "      <td>0</td>\n",
              "      <td>0</td>\n",
              "      <td>0</td>\n",
              "      <td>0</td>\n",
              "      <td>0</td>\n",
              "      <td>0</td>\n",
              "      <td>0</td>\n",
              "      <td>0</td>\n",
              "      <td>0</td>\n",
              "      <td>0</td>\n",
              "      <td>0</td>\n",
              "      <td>0</td>\n",
              "      <td>0</td>\n",
              "      <td>0</td>\n",
              "      <td>0</td>\n",
              "    </tr>\n",
              "  </tbody>\n",
              "</table>\n",
              "<p>5 rows × 233 columns</p>\n",
              "</div>"
            ],
            "text/plain": [
              "   Pop1990  Pop1995  Pop2000  ...  Country_ZAF  Country_ZMB  Country_ZWE\n",
              "0      918   1015.0     1123  ...            0            0            0\n",
              "1     3469   3986.0     4581  ...            0            0            0\n",
              "2     2237   2356.0     2510  ...            0            0            0\n",
              "3     1285   1235.0     1163  ...            0            0            0\n",
              "4     1159   1115.0     1049  ...            0            0            0\n",
              "\n",
              "[5 rows x 233 columns]"
            ]
          },
          "metadata": {
            "tags": []
          },
          "execution_count": 40
        }
      ]
    },
    {
      "cell_type": "code",
      "metadata": {
        "id": "vMG3b-l-6fcG",
        "colab_type": "code",
        "colab": {}
      },
      "source": [
        "# from sklearn.model_selection import train_test_split\n",
        "# \n",
        "# train, test = train_test_split(df_day, test_size=0.2)\n",
        "# train_X = train.drop('CityBufferDiffDay', axis=1)\n",
        "# train_y = train['CityBufferDiffDay']\n",
        "# test_X = test.drop('CityBufferDiffDay', axis=1)\n",
        "# test_y = test['CityBufferDiffDay']\n",
        "\n",
        "X_day = df_day.drop('CityBufferDiffDay', axis=1)\n",
        "y_day = df_day['CityBufferDiffDay']"
      ],
      "execution_count": 0,
      "outputs": []
    },
    {
      "cell_type": "code",
      "metadata": {
        "id": "vsyJ3mQ8sEU5",
        "colab_type": "code",
        "outputId": "aded262f-1305-49ef-809e-24752a523dc7",
        "colab": {
          "base_uri": "https://localhost:8080/",
          "height": 176
        }
      },
      "source": [
        "from sklearn.ensemble import RandomForestRegressor\n",
        "\n",
        "forest_reg = RandomForestRegressor(random_state=42)\n",
        "forest_reg.fit(X_day, y_day)"
      ],
      "execution_count": 0,
      "outputs": [
        {
          "output_type": "stream",
          "text": [
            "/usr/local/lib/python3.6/dist-packages/sklearn/ensemble/forest.py:246: FutureWarning: The default value of n_estimators will change from 10 in version 0.20 to 100 in 0.22.\n",
            "  \"10 in version 0.20 to 100 in 0.22.\", FutureWarning)\n"
          ],
          "name": "stderr"
        },
        {
          "output_type": "execute_result",
          "data": {
            "text/plain": [
              "RandomForestRegressor(bootstrap=True, criterion='mse', max_depth=None,\n",
              "           max_features='auto', max_leaf_nodes=None,\n",
              "           min_impurity_decrease=0.0, min_impurity_split=None,\n",
              "           min_samples_leaf=1, min_samples_split=2,\n",
              "           min_weight_fraction_leaf=0.0, n_estimators=10, n_jobs=None,\n",
              "           oob_score=False, random_state=42, verbose=0, warm_start=False)"
            ]
          },
          "metadata": {
            "tags": []
          },
          "execution_count": 59
        }
      ]
    },
    {
      "cell_type": "code",
      "metadata": {
        "id": "ZWAYRR6xKde9",
        "colab_type": "code",
        "outputId": "a9a3d6bd-e477-4ed3-c5e1-19f559ae4262",
        "colab": {
          "base_uri": "https://localhost:8080/",
          "height": 35
        }
      },
      "source": [
        "X_sample = X_day.iloc[:5]\n",
        "y_sample = y_day.iloc[:5]\n",
        "print(\"Predictions: \", forest_reg.predict(X_sample))"
      ],
      "execution_count": 0,
      "outputs": [
        {
          "output_type": "stream",
          "text": [
            "Predictions:  [ 0.222 -0.963  1.899 -0.025  1.89 ]\n"
          ],
          "name": "stdout"
        }
      ]
    },
    {
      "cell_type": "code",
      "metadata": {
        "id": "h1csB9lNKlu4",
        "colab_type": "code",
        "outputId": "c57b2057-61f4-4565-dba5-4cd3701c0de5",
        "colab": {
          "base_uri": "https://localhost:8080/",
          "height": 35
        }
      },
      "source": [
        "print(\"Actual: \", list(y_sample))"
      ],
      "execution_count": 0,
      "outputs": [
        {
          "output_type": "stream",
          "text": [
            "Actual:  [-0.9, -1.76, 2.13, -0.26, 2.09]\n"
          ],
          "name": "stdout"
        }
      ]
    },
    {
      "cell_type": "code",
      "metadata": {
        "id": "7UhdGtU6svnn",
        "colab_type": "code",
        "colab": {}
      },
      "source": [
        "from sklearn.model_selection import cross_val_score\n",
        "import numpy as np\n",
        "\n",
        "forest_scores = cross_val_score(forest_reg, X_day, y_day,\n",
        "                               scoring=\"neg_mean_squared_error\", cv=10)\n",
        "forest_rmse_scores = np.sqrt(-forest_scores)\n",
        "\n",
        "def display_scores(scores):\n",
        "    print(\"Scores:\", scores)\n",
        "    print(\"Mean:\", scores.mean())\n",
        "    print(\"Standard deviation:\", scores.std())\n"
      ],
      "execution_count": 0,
      "outputs": []
    },
    {
      "cell_type": "code",
      "metadata": {
        "id": "rcALmWDIxSV-",
        "colab_type": "code",
        "outputId": "fba1987f-cfaf-4ee3-d168-144605fc0cf7",
        "colab": {
          "base_uri": "https://localhost:8080/",
          "height": 87
        }
      },
      "source": [
        "display_scores(forest_rmse_scores)"
      ],
      "execution_count": 0,
      "outputs": [
        {
          "output_type": "stream",
          "text": [
            "Scores: [1.28021015 1.50710829 1.67676793 1.5092468  2.2459952  2.02660522\n",
            " 1.71072919 1.67672836 1.93396474 1.47576508]\n",
            "Mean: 1.7043120975092023\n",
            "Standard deviation: 0.27579530780561207\n"
          ],
          "name": "stdout"
        }
      ]
    },
    {
      "cell_type": "markdown",
      "metadata": {
        "id": "hZlPuCTtxu_W",
        "colab_type": "text"
      },
      "source": [
        "Off by 1.7 degrees C, not terrible, but could be better"
      ]
    },
    {
      "cell_type": "code",
      "metadata": {
        "id": "SH8jGpKttPNB",
        "colab_type": "code",
        "outputId": "a220c20a-d190-4cee-9137-463bda9b3546",
        "colab": {
          "base_uri": "https://localhost:8080/",
          "height": 228
        }
      },
      "source": [
        "from sklearn.model_selection import GridSearchCV\n",
        "\n",
        "param_grid = [\n",
        "#     Try 12 (3x4) combinations of hyperparameters\n",
        "    {'n_estimators': [3, 10, 10], 'max_features': [2,4,6,8]},\n",
        "#     Then try 6 (2x3) combinations with bootstrap set as false\n",
        "    {'bootstrap': [False], 'n_estimators': [3, 10], 'max_features': [2,3,4]},\n",
        "]\n",
        "\n",
        "forest_reg = RandomForestRegressor(random_state=42)\n",
        "grid_search = GridSearchCV(forest_reg, param_grid, cv=5,\n",
        "                          scoring='neg_mean_squared_error', return_train_score=True)\n",
        "grid_search.fit(X_day, y_day)"
      ],
      "execution_count": 0,
      "outputs": [
        {
          "output_type": "execute_result",
          "data": {
            "text/plain": [
              "GridSearchCV(cv=5, error_score='raise-deprecating',\n",
              "       estimator=RandomForestRegressor(bootstrap=True, criterion='mse', max_depth=None,\n",
              "           max_features='auto', max_leaf_nodes=None,\n",
              "           min_impurity_decrease=0.0, min_impurity_split=None,\n",
              "           min_samples_leaf=1, min_samples_split=2,\n",
              "           min_weight_fraction_leaf=0.0, n_estimators='warn', n_jobs=None,\n",
              "           oob_score=False, random_state=42, verbose=0, warm_start=False),\n",
              "       fit_params=None, iid='warn', n_jobs=None,\n",
              "       param_grid=[{'n_estimators': [3, 10, 10], 'max_features': [2, 4, 6, 8]}, {'bootstrap': [False], 'n_estimators': [3, 10], 'max_features': [2, 3, 4]}],\n",
              "       pre_dispatch='2*n_jobs', refit=True, return_train_score=True,\n",
              "       scoring='neg_mean_squared_error', verbose=0)"
            ]
          },
          "metadata": {
            "tags": []
          },
          "execution_count": 45
        }
      ]
    },
    {
      "cell_type": "code",
      "metadata": {
        "id": "BJOglP6HzJQi",
        "colab_type": "code",
        "outputId": "14337ee8-39e6-442a-b21d-8edcdb7c3b65",
        "colab": {
          "base_uri": "https://localhost:8080/",
          "height": 329
        }
      },
      "source": [
        "cvres = grid_search.cv_results_\n",
        "for mean_score, params in zip(cvres['mean_test_score'], cvres['params']):\n",
        "  print(np.sqrt(-mean_score), params)"
      ],
      "execution_count": 0,
      "outputs": [
        {
          "output_type": "stream",
          "text": [
            "669.183712714057 {'max_features': 2, 'n_estimators': 3}\n",
            "747.9396832658718 {'max_features': 2, 'n_estimators': 10}\n",
            "747.9396832658718 {'max_features': 2, 'n_estimators': 10}\n",
            "1159.0693366842524 {'max_features': 4, 'n_estimators': 3}\n",
            "1022.8521279392136 {'max_features': 4, 'n_estimators': 10}\n",
            "1022.8521279392136 {'max_features': 4, 'n_estimators': 10}\n",
            "1019.2579629015315 {'max_features': 6, 'n_estimators': 3}\n",
            "827.7243234535107 {'max_features': 6, 'n_estimators': 10}\n",
            "827.7243234535107 {'max_features': 6, 'n_estimators': 10}\n",
            "983.4809682607291 {'max_features': 8, 'n_estimators': 3}\n",
            "859.2617204150213 {'max_features': 8, 'n_estimators': 10}\n",
            "859.2617204150213 {'max_features': 8, 'n_estimators': 10}\n",
            "1151.285013110781 {'bootstrap': False, 'max_features': 2, 'n_estimators': 3}\n",
            "786.7904840322954 {'bootstrap': False, 'max_features': 2, 'n_estimators': 10}\n",
            "757.0864894615736 {'bootstrap': False, 'max_features': 3, 'n_estimators': 3}\n",
            "596.8864417810884 {'bootstrap': False, 'max_features': 3, 'n_estimators': 10}\n",
            "1079.0206201960298 {'bootstrap': False, 'max_features': 4, 'n_estimators': 3}\n",
            "850.771238791191 {'bootstrap': False, 'max_features': 4, 'n_estimators': 10}\n"
          ],
          "name": "stdout"
        }
      ]
    },
    {
      "cell_type": "code",
      "metadata": {
        "id": "9LYDtjAM4odq",
        "colab_type": "code",
        "outputId": "2c0cb46f-252a-46e9-d708-4c81d661ee5c",
        "colab": {
          "base_uri": "https://localhost:8080/",
          "height": 35
        }
      },
      "source": [
        "grid_search.best_params_"
      ],
      "execution_count": 0,
      "outputs": [
        {
          "output_type": "execute_result",
          "data": {
            "text/plain": [
              "{'bootstrap': False, 'max_features': 3, 'n_estimators': 10}"
            ]
          },
          "metadata": {
            "tags": []
          },
          "execution_count": 47
        }
      ]
    },
    {
      "cell_type": "code",
      "metadata": {
        "id": "R2BBVwxk4yPc",
        "colab_type": "code",
        "outputId": "7801082c-c10d-4bf7-8d38-cea11235d195",
        "colab": {
          "base_uri": "https://localhost:8080/",
          "height": 121
        }
      },
      "source": [
        "forest_best = grid_search.best_estimator_\n",
        "forest_best.fit(X_day, y_day)"
      ],
      "execution_count": 0,
      "outputs": [
        {
          "output_type": "execute_result",
          "data": {
            "text/plain": [
              "RandomForestRegressor(bootstrap=False, criterion='mse', max_depth=None,\n",
              "           max_features=3, max_leaf_nodes=None, min_impurity_decrease=0.0,\n",
              "           min_impurity_split=None, min_samples_leaf=1,\n",
              "           min_samples_split=2, min_weight_fraction_leaf=0.0,\n",
              "           n_estimators=10, n_jobs=None, oob_score=False, random_state=42,\n",
              "           verbose=0, warm_start=False)"
            ]
          },
          "metadata": {
            "tags": []
          },
          "execution_count": 48
        }
      ]
    },
    {
      "cell_type": "code",
      "metadata": {
        "id": "KSF8o5oT47mQ",
        "colab_type": "code",
        "outputId": "a93fd120-19f4-4793-d988-222adc34653d",
        "colab": {
          "base_uri": "https://localhost:8080/",
          "height": 121
        }
      },
      "source": [
        "forest_best = RandomForestRegressor(bootstrap=False, criterion='mse', max_depth=None,\n",
        "           max_features=3, min_impurity_decrease=0.0, min_samples_leaf=1,\n",
        "           min_samples_split=2, min_weight_fraction_leaf=0.0,\n",
        "           n_estimators=10, oob_score=False, random_state=42,\n",
        "           verbose=0, warm_start=False)\n",
        "\n",
        "forest_best.fit(X_day, y_day)"
      ],
      "execution_count": 0,
      "outputs": [
        {
          "output_type": "execute_result",
          "data": {
            "text/plain": [
              "RandomForestRegressor(bootstrap=False, criterion='mse', max_depth=None,\n",
              "           max_features=3, max_leaf_nodes=None, min_impurity_decrease=0.0,\n",
              "           min_impurity_split=None, min_samples_leaf=1,\n",
              "           min_samples_split=2, min_weight_fraction_leaf=0.0,\n",
              "           n_estimators=10, n_jobs=None, oob_score=False,\n",
              "           random_state=None, verbose=0, warm_start=False)"
            ]
          },
          "metadata": {
            "tags": []
          },
          "execution_count": 54
        }
      ]
    },
    {
      "cell_type": "code",
      "metadata": {
        "id": "CS0b1Lpi5Y9C",
        "colab_type": "code",
        "colab": {}
      },
      "source": [
        "forest_scores2 = cross_val_score(forest_best, X_day, y_day,\n",
        "                               scoring=\"neg_mean_squared_error\", cv=10)\n",
        "forest_rmse_scores2 = np.sqrt(-forest_scores2)"
      ],
      "execution_count": 0,
      "outputs": []
    },
    {
      "cell_type": "code",
      "metadata": {
        "id": "rLp8MKRl5fzk",
        "colab_type": "code",
        "outputId": "1b1aaf26-a0d7-465d-b7ac-67ac2310251f",
        "colab": {
          "base_uri": "https://localhost:8080/",
          "height": 104
        }
      },
      "source": [
        "display_scores(forest_rmse_scores2)"
      ],
      "execution_count": 0,
      "outputs": [
        {
          "output_type": "stream",
          "text": [
            "Scores: [3.35931525e+02 1.27031456e+02 1.69181811e+00 1.55674852e+00\n",
            " 9.41624403e+02 1.33766981e+03 1.96285905e+03 9.24324040e+02\n",
            " 2.22523032e+00 1.26980954e+02]\n",
            "Mean: 576.1895042119475\n",
            "Standard deviation: 648.7207085312191\n"
          ],
          "name": "stdout"
        }
      ]
    },
    {
      "cell_type": "markdown",
      "metadata": {
        "id": "BoDUZQ6H_sJq",
        "colab_type": "text"
      },
      "source": [
        "# Best forest didnt work, need to fix"
      ]
    },
    {
      "cell_type": "markdown",
      "metadata": {
        "id": "-SqJSiG1JV81",
        "colab_type": "text"
      },
      "source": [
        "Back to the original random forest regressor!"
      ]
    },
    {
      "cell_type": "code",
      "metadata": {
        "id": "Hh0AFHrfKV6X",
        "colab_type": "code",
        "colab": {}
      },
      "source": [
        ""
      ],
      "execution_count": 0,
      "outputs": []
    }
  ]
}